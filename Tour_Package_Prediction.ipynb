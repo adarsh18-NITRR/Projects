{
 "cells": [
  {
   "cell_type": "code",
   "execution_count": 1,
   "id": "087cebb8-236a-453b-8581-7e023308d5fb",
   "metadata": {},
   "outputs": [],
   "source": [
    "import pandas as pd"
   ]
  },
  {
   "cell_type": "code",
   "execution_count": 2,
   "id": "b5d5ae79-cdc4-4017-ba10-d802fcce37f6",
   "metadata": {},
   "outputs": [],
   "source": [
    "import seaborn as sns\n",
    "import matplotlib.pyplot as plt"
   ]
  },
  {
   "cell_type": "code",
   "execution_count": 3,
   "id": "f990ac02-ad44-4594-922c-b43063a8cb5e",
   "metadata": {
    "tags": []
   },
   "outputs": [],
   "source": [
    "from warnings import filterwarnings\n",
    "filterwarnings('ignore')"
   ]
  },
  {
   "cell_type": "code",
   "execution_count": 4,
   "id": "33d21578-003f-4a6c-a646-e4c2c4e1e11f",
   "metadata": {},
   "outputs": [],
   "source": [
    "df = pd.read_csv('tour_package.csv')"
   ]
  },
  {
   "cell_type": "code",
   "execution_count": 5,
   "id": "548ebc8a-4ca5-4b66-8d20-917df44b514c",
   "metadata": {},
   "outputs": [
    {
     "data": {
      "text/html": [
       "<div>\n",
       "<style scoped>\n",
       "    .dataframe tbody tr th:only-of-type {\n",
       "        vertical-align: middle;\n",
       "    }\n",
       "\n",
       "    .dataframe tbody tr th {\n",
       "        vertical-align: top;\n",
       "    }\n",
       "\n",
       "    .dataframe thead th {\n",
       "        text-align: right;\n",
       "    }\n",
       "</style>\n",
       "<table border=\"1\" class=\"dataframe\">\n",
       "  <thead>\n",
       "    <tr style=\"text-align: right;\">\n",
       "      <th></th>\n",
       "      <th>CustomerID</th>\n",
       "      <th>ProdTaken</th>\n",
       "      <th>Age</th>\n",
       "      <th>TypeofContact</th>\n",
       "      <th>CityTier</th>\n",
       "      <th>DurationOfPitch</th>\n",
       "      <th>Occupation</th>\n",
       "      <th>Gender</th>\n",
       "      <th>NumberOfPersonVisiting</th>\n",
       "      <th>NumberOfFollowups</th>\n",
       "      <th>ProductPitched</th>\n",
       "      <th>PreferredPropertyStar</th>\n",
       "      <th>MaritalStatus</th>\n",
       "      <th>NumberOfTrips</th>\n",
       "      <th>Passport</th>\n",
       "      <th>PitchSatisfactionScore</th>\n",
       "      <th>OwnCar</th>\n",
       "      <th>NumberOfChildrenVisiting</th>\n",
       "      <th>Designation</th>\n",
       "      <th>MonthlyIncome</th>\n",
       "    </tr>\n",
       "  </thead>\n",
       "  <tbody>\n",
       "    <tr>\n",
       "      <th>0</th>\n",
       "      <td>200000</td>\n",
       "      <td>1</td>\n",
       "      <td>41.0</td>\n",
       "      <td>Self Enquiry</td>\n",
       "      <td>3</td>\n",
       "      <td>6.0</td>\n",
       "      <td>Salaried</td>\n",
       "      <td>Female</td>\n",
       "      <td>3</td>\n",
       "      <td>3.0</td>\n",
       "      <td>Deluxe</td>\n",
       "      <td>3.0</td>\n",
       "      <td>Single</td>\n",
       "      <td>1.0</td>\n",
       "      <td>1</td>\n",
       "      <td>2</td>\n",
       "      <td>1</td>\n",
       "      <td>0.0</td>\n",
       "      <td>Manager</td>\n",
       "      <td>20993.0</td>\n",
       "    </tr>\n",
       "    <tr>\n",
       "      <th>1</th>\n",
       "      <td>200001</td>\n",
       "      <td>0</td>\n",
       "      <td>49.0</td>\n",
       "      <td>Company Invited</td>\n",
       "      <td>1</td>\n",
       "      <td>14.0</td>\n",
       "      <td>Salaried</td>\n",
       "      <td>Male</td>\n",
       "      <td>3</td>\n",
       "      <td>4.0</td>\n",
       "      <td>Deluxe</td>\n",
       "      <td>4.0</td>\n",
       "      <td>Divorced</td>\n",
       "      <td>2.0</td>\n",
       "      <td>0</td>\n",
       "      <td>3</td>\n",
       "      <td>1</td>\n",
       "      <td>2.0</td>\n",
       "      <td>Manager</td>\n",
       "      <td>20130.0</td>\n",
       "    </tr>\n",
       "    <tr>\n",
       "      <th>2</th>\n",
       "      <td>200002</td>\n",
       "      <td>1</td>\n",
       "      <td>37.0</td>\n",
       "      <td>Self Enquiry</td>\n",
       "      <td>1</td>\n",
       "      <td>8.0</td>\n",
       "      <td>Free Lancer</td>\n",
       "      <td>Male</td>\n",
       "      <td>3</td>\n",
       "      <td>4.0</td>\n",
       "      <td>Basic</td>\n",
       "      <td>3.0</td>\n",
       "      <td>Single</td>\n",
       "      <td>7.0</td>\n",
       "      <td>1</td>\n",
       "      <td>3</td>\n",
       "      <td>0</td>\n",
       "      <td>0.0</td>\n",
       "      <td>Executive</td>\n",
       "      <td>17090.0</td>\n",
       "    </tr>\n",
       "    <tr>\n",
       "      <th>3</th>\n",
       "      <td>200003</td>\n",
       "      <td>0</td>\n",
       "      <td>33.0</td>\n",
       "      <td>Company Invited</td>\n",
       "      <td>1</td>\n",
       "      <td>9.0</td>\n",
       "      <td>Salaried</td>\n",
       "      <td>Female</td>\n",
       "      <td>2</td>\n",
       "      <td>3.0</td>\n",
       "      <td>Basic</td>\n",
       "      <td>3.0</td>\n",
       "      <td>Divorced</td>\n",
       "      <td>2.0</td>\n",
       "      <td>1</td>\n",
       "      <td>5</td>\n",
       "      <td>1</td>\n",
       "      <td>1.0</td>\n",
       "      <td>Executive</td>\n",
       "      <td>17909.0</td>\n",
       "    </tr>\n",
       "    <tr>\n",
       "      <th>4</th>\n",
       "      <td>200004</td>\n",
       "      <td>0</td>\n",
       "      <td>NaN</td>\n",
       "      <td>Self Enquiry</td>\n",
       "      <td>1</td>\n",
       "      <td>8.0</td>\n",
       "      <td>Small Business</td>\n",
       "      <td>Male</td>\n",
       "      <td>2</td>\n",
       "      <td>3.0</td>\n",
       "      <td>Basic</td>\n",
       "      <td>4.0</td>\n",
       "      <td>Divorced</td>\n",
       "      <td>1.0</td>\n",
       "      <td>0</td>\n",
       "      <td>5</td>\n",
       "      <td>1</td>\n",
       "      <td>0.0</td>\n",
       "      <td>Executive</td>\n",
       "      <td>18468.0</td>\n",
       "    </tr>\n",
       "  </tbody>\n",
       "</table>\n",
       "</div>"
      ],
      "text/plain": [
       "   CustomerID  ProdTaken   Age    TypeofContact  CityTier  DurationOfPitch  \\\n",
       "0      200000          1  41.0     Self Enquiry         3              6.0   \n",
       "1      200001          0  49.0  Company Invited         1             14.0   \n",
       "2      200002          1  37.0     Self Enquiry         1              8.0   \n",
       "3      200003          0  33.0  Company Invited         1              9.0   \n",
       "4      200004          0   NaN     Self Enquiry         1              8.0   \n",
       "\n",
       "       Occupation  Gender  NumberOfPersonVisiting  NumberOfFollowups  \\\n",
       "0        Salaried  Female                       3                3.0   \n",
       "1        Salaried    Male                       3                4.0   \n",
       "2     Free Lancer    Male                       3                4.0   \n",
       "3        Salaried  Female                       2                3.0   \n",
       "4  Small Business    Male                       2                3.0   \n",
       "\n",
       "  ProductPitched  PreferredPropertyStar MaritalStatus  NumberOfTrips  \\\n",
       "0         Deluxe                    3.0        Single            1.0   \n",
       "1         Deluxe                    4.0      Divorced            2.0   \n",
       "2          Basic                    3.0        Single            7.0   \n",
       "3          Basic                    3.0      Divorced            2.0   \n",
       "4          Basic                    4.0      Divorced            1.0   \n",
       "\n",
       "   Passport  PitchSatisfactionScore  OwnCar  NumberOfChildrenVisiting  \\\n",
       "0         1                       2       1                       0.0   \n",
       "1         0                       3       1                       2.0   \n",
       "2         1                       3       0                       0.0   \n",
       "3         1                       5       1                       1.0   \n",
       "4         0                       5       1                       0.0   \n",
       "\n",
       "  Designation  MonthlyIncome  \n",
       "0     Manager        20993.0  \n",
       "1     Manager        20130.0  \n",
       "2   Executive        17090.0  \n",
       "3   Executive        17909.0  \n",
       "4   Executive        18468.0  "
      ]
     },
     "execution_count": 5,
     "metadata": {},
     "output_type": "execute_result"
    }
   ],
   "source": [
    "df.head()"
   ]
  },
  {
   "cell_type": "code",
   "execution_count": 6,
   "id": "aca46609-c428-44b6-9ea4-52048a2e34e3",
   "metadata": {},
   "outputs": [
    {
     "name": "stdout",
     "output_type": "stream",
     "text": [
      "<class 'pandas.core.frame.DataFrame'>\n",
      "RangeIndex: 4888 entries, 0 to 4887\n",
      "Data columns (total 20 columns):\n",
      " #   Column                    Non-Null Count  Dtype  \n",
      "---  ------                    --------------  -----  \n",
      " 0   CustomerID                4888 non-null   int64  \n",
      " 1   ProdTaken                 4888 non-null   int64  \n",
      " 2   Age                       4662 non-null   float64\n",
      " 3   TypeofContact             4863 non-null   object \n",
      " 4   CityTier                  4888 non-null   int64  \n",
      " 5   DurationOfPitch           4637 non-null   float64\n",
      " 6   Occupation                4888 non-null   object \n",
      " 7   Gender                    4888 non-null   object \n",
      " 8   NumberOfPersonVisiting    4888 non-null   int64  \n",
      " 9   NumberOfFollowups         4843 non-null   float64\n",
      " 10  ProductPitched            4888 non-null   object \n",
      " 11  PreferredPropertyStar     4862 non-null   float64\n",
      " 12  MaritalStatus             4888 non-null   object \n",
      " 13  NumberOfTrips             4748 non-null   float64\n",
      " 14  Passport                  4888 non-null   int64  \n",
      " 15  PitchSatisfactionScore    4888 non-null   int64  \n",
      " 16  OwnCar                    4888 non-null   int64  \n",
      " 17  NumberOfChildrenVisiting  4822 non-null   float64\n",
      " 18  Designation               4888 non-null   object \n",
      " 19  MonthlyIncome             4655 non-null   float64\n",
      "dtypes: float64(7), int64(7), object(6)\n",
      "memory usage: 763.9+ KB\n"
     ]
    }
   ],
   "source": [
    "df.info()"
   ]
  },
  {
   "cell_type": "code",
   "execution_count": 7,
   "id": "c1ad57d5-e57e-4d96-b083-e6fd971bd8d8",
   "metadata": {},
   "outputs": [],
   "source": [
    "df['Gender'][df['Gender']=='Fe Male'] = 'Female'"
   ]
  },
  {
   "cell_type": "code",
   "execution_count": 8,
   "id": "28281654-2f79-44cb-ae89-9dfae295a487",
   "metadata": {},
   "outputs": [
    {
     "data": {
      "text/plain": [
       "Male      2916\n",
       "Female    1972\n",
       "Name: Gender, dtype: int64"
      ]
     },
     "execution_count": 8,
     "metadata": {},
     "output_type": "execute_result"
    }
   ],
   "source": [
    "df['Gender'].value_counts()"
   ]
  },
  {
   "cell_type": "code",
   "execution_count": 9,
   "id": "bf97f1d3-8985-4cf2-b62a-a2ac1ad72b7b",
   "metadata": {},
   "outputs": [],
   "source": [
    "avg_age_f = df['Age'][df['Gender']=='Female'].mean(skipna=True)\n",
    "avg_age_m = df['Age'][df['Gender']=='Male'].mean(skipna=True)"
   ]
  },
  {
   "cell_type": "code",
   "execution_count": 10,
   "id": "6b185d56-f1de-4b12-8c15-0dc8b6f4c2ed",
   "metadata": {},
   "outputs": [],
   "source": [
    "def missing_age_treatment(x):\n",
    "    if pd.isnull(x['Age']):\n",
    "        if x['Gender']=='Male':\n",
    "            return avg_age_m\n",
    "        elif x['Gender']=='Female':\n",
    "            return avg_age_f\n",
    "    return x['Age']"
   ]
  },
  {
   "cell_type": "code",
   "execution_count": 11,
   "id": "830ff51f-8aa4-497d-bfba-5bc4ce1ccfe9",
   "metadata": {},
   "outputs": [],
   "source": [
    "df['Age'] = df[['Age','Gender']].apply(missing_age_treatment, axis=1)"
   ]
  },
  {
   "cell_type": "code",
   "execution_count": 12,
   "id": "99a27323-ee26-4cef-88e8-26fdc0b80d26",
   "metadata": {},
   "outputs": [
    {
     "name": "stdout",
     "output_type": "stream",
     "text": [
      "<class 'pandas.core.frame.DataFrame'>\n",
      "RangeIndex: 4888 entries, 0 to 4887\n",
      "Data columns (total 20 columns):\n",
      " #   Column                    Non-Null Count  Dtype  \n",
      "---  ------                    --------------  -----  \n",
      " 0   CustomerID                4888 non-null   int64  \n",
      " 1   ProdTaken                 4888 non-null   int64  \n",
      " 2   Age                       4888 non-null   float64\n",
      " 3   TypeofContact             4863 non-null   object \n",
      " 4   CityTier                  4888 non-null   int64  \n",
      " 5   DurationOfPitch           4637 non-null   float64\n",
      " 6   Occupation                4888 non-null   object \n",
      " 7   Gender                    4888 non-null   object \n",
      " 8   NumberOfPersonVisiting    4888 non-null   int64  \n",
      " 9   NumberOfFollowups         4843 non-null   float64\n",
      " 10  ProductPitched            4888 non-null   object \n",
      " 11  PreferredPropertyStar     4862 non-null   float64\n",
      " 12  MaritalStatus             4888 non-null   object \n",
      " 13  NumberOfTrips             4748 non-null   float64\n",
      " 14  Passport                  4888 non-null   int64  \n",
      " 15  PitchSatisfactionScore    4888 non-null   int64  \n",
      " 16  OwnCar                    4888 non-null   int64  \n",
      " 17  NumberOfChildrenVisiting  4822 non-null   float64\n",
      " 18  Designation               4888 non-null   object \n",
      " 19  MonthlyIncome             4655 non-null   float64\n",
      "dtypes: float64(7), int64(7), object(6)\n",
      "memory usage: 763.9+ KB\n"
     ]
    }
   ],
   "source": [
    "df.info()"
   ]
  },
  {
   "cell_type": "code",
   "execution_count": 13,
   "id": "5a3ca9e3-d0ef-48ad-9531-26a82ac20e5e",
   "metadata": {},
   "outputs": [
    {
     "data": {
      "text/html": [
       "<div>\n",
       "<style scoped>\n",
       "    .dataframe tbody tr th:only-of-type {\n",
       "        vertical-align: middle;\n",
       "    }\n",
       "\n",
       "    .dataframe tbody tr th {\n",
       "        vertical-align: top;\n",
       "    }\n",
       "\n",
       "    .dataframe thead th {\n",
       "        text-align: right;\n",
       "    }\n",
       "</style>\n",
       "<table border=\"1\" class=\"dataframe\">\n",
       "  <thead>\n",
       "    <tr style=\"text-align: right;\">\n",
       "      <th></th>\n",
       "      <th>CustomerID</th>\n",
       "      <th>ProdTaken</th>\n",
       "      <th>Age</th>\n",
       "      <th>TypeofContact</th>\n",
       "      <th>CityTier</th>\n",
       "      <th>DurationOfPitch</th>\n",
       "      <th>Occupation</th>\n",
       "      <th>Gender</th>\n",
       "      <th>NumberOfPersonVisiting</th>\n",
       "      <th>NumberOfFollowups</th>\n",
       "      <th>...</th>\n",
       "      <th>MaritalStatus</th>\n",
       "      <th>NumberOfTrips</th>\n",
       "      <th>Passport</th>\n",
       "      <th>PitchSatisfactionScore</th>\n",
       "      <th>OwnCar</th>\n",
       "      <th>NumberOfChildrenVisiting</th>\n",
       "      <th>Designation</th>\n",
       "      <th>MonthlyIncome</th>\n",
       "      <th>Company Invited</th>\n",
       "      <th>Self Enquiry</th>\n",
       "    </tr>\n",
       "  </thead>\n",
       "  <tbody>\n",
       "    <tr>\n",
       "      <th>0</th>\n",
       "      <td>200000</td>\n",
       "      <td>1</td>\n",
       "      <td>41.000000</td>\n",
       "      <td>Self Enquiry</td>\n",
       "      <td>3</td>\n",
       "      <td>6.0</td>\n",
       "      <td>Salaried</td>\n",
       "      <td>Female</td>\n",
       "      <td>3</td>\n",
       "      <td>3.0</td>\n",
       "      <td>...</td>\n",
       "      <td>Single</td>\n",
       "      <td>1.0</td>\n",
       "      <td>1</td>\n",
       "      <td>2</td>\n",
       "      <td>1</td>\n",
       "      <td>0.0</td>\n",
       "      <td>Manager</td>\n",
       "      <td>20993.0</td>\n",
       "      <td>0</td>\n",
       "      <td>1</td>\n",
       "    </tr>\n",
       "    <tr>\n",
       "      <th>1</th>\n",
       "      <td>200001</td>\n",
       "      <td>0</td>\n",
       "      <td>49.000000</td>\n",
       "      <td>Company Invited</td>\n",
       "      <td>1</td>\n",
       "      <td>14.0</td>\n",
       "      <td>Salaried</td>\n",
       "      <td>Male</td>\n",
       "      <td>3</td>\n",
       "      <td>4.0</td>\n",
       "      <td>...</td>\n",
       "      <td>Divorced</td>\n",
       "      <td>2.0</td>\n",
       "      <td>0</td>\n",
       "      <td>3</td>\n",
       "      <td>1</td>\n",
       "      <td>2.0</td>\n",
       "      <td>Manager</td>\n",
       "      <td>20130.0</td>\n",
       "      <td>1</td>\n",
       "      <td>0</td>\n",
       "    </tr>\n",
       "    <tr>\n",
       "      <th>2</th>\n",
       "      <td>200002</td>\n",
       "      <td>1</td>\n",
       "      <td>37.000000</td>\n",
       "      <td>Self Enquiry</td>\n",
       "      <td>1</td>\n",
       "      <td>8.0</td>\n",
       "      <td>Free Lancer</td>\n",
       "      <td>Male</td>\n",
       "      <td>3</td>\n",
       "      <td>4.0</td>\n",
       "      <td>...</td>\n",
       "      <td>Single</td>\n",
       "      <td>7.0</td>\n",
       "      <td>1</td>\n",
       "      <td>3</td>\n",
       "      <td>0</td>\n",
       "      <td>0.0</td>\n",
       "      <td>Executive</td>\n",
       "      <td>17090.0</td>\n",
       "      <td>0</td>\n",
       "      <td>1</td>\n",
       "    </tr>\n",
       "    <tr>\n",
       "      <th>3</th>\n",
       "      <td>200003</td>\n",
       "      <td>0</td>\n",
       "      <td>33.000000</td>\n",
       "      <td>Company Invited</td>\n",
       "      <td>1</td>\n",
       "      <td>9.0</td>\n",
       "      <td>Salaried</td>\n",
       "      <td>Female</td>\n",
       "      <td>2</td>\n",
       "      <td>3.0</td>\n",
       "      <td>...</td>\n",
       "      <td>Divorced</td>\n",
       "      <td>2.0</td>\n",
       "      <td>1</td>\n",
       "      <td>5</td>\n",
       "      <td>1</td>\n",
       "      <td>1.0</td>\n",
       "      <td>Executive</td>\n",
       "      <td>17909.0</td>\n",
       "      <td>1</td>\n",
       "      <td>0</td>\n",
       "    </tr>\n",
       "    <tr>\n",
       "      <th>4</th>\n",
       "      <td>200004</td>\n",
       "      <td>0</td>\n",
       "      <td>37.319986</td>\n",
       "      <td>Self Enquiry</td>\n",
       "      <td>1</td>\n",
       "      <td>8.0</td>\n",
       "      <td>Small Business</td>\n",
       "      <td>Male</td>\n",
       "      <td>2</td>\n",
       "      <td>3.0</td>\n",
       "      <td>...</td>\n",
       "      <td>Divorced</td>\n",
       "      <td>1.0</td>\n",
       "      <td>0</td>\n",
       "      <td>5</td>\n",
       "      <td>1</td>\n",
       "      <td>0.0</td>\n",
       "      <td>Executive</td>\n",
       "      <td>18468.0</td>\n",
       "      <td>0</td>\n",
       "      <td>1</td>\n",
       "    </tr>\n",
       "    <tr>\n",
       "      <th>...</th>\n",
       "      <td>...</td>\n",
       "      <td>...</td>\n",
       "      <td>...</td>\n",
       "      <td>...</td>\n",
       "      <td>...</td>\n",
       "      <td>...</td>\n",
       "      <td>...</td>\n",
       "      <td>...</td>\n",
       "      <td>...</td>\n",
       "      <td>...</td>\n",
       "      <td>...</td>\n",
       "      <td>...</td>\n",
       "      <td>...</td>\n",
       "      <td>...</td>\n",
       "      <td>...</td>\n",
       "      <td>...</td>\n",
       "      <td>...</td>\n",
       "      <td>...</td>\n",
       "      <td>...</td>\n",
       "      <td>...</td>\n",
       "      <td>...</td>\n",
       "    </tr>\n",
       "    <tr>\n",
       "      <th>4883</th>\n",
       "      <td>204883</td>\n",
       "      <td>1</td>\n",
       "      <td>49.000000</td>\n",
       "      <td>Self Enquiry</td>\n",
       "      <td>3</td>\n",
       "      <td>9.0</td>\n",
       "      <td>Small Business</td>\n",
       "      <td>Male</td>\n",
       "      <td>3</td>\n",
       "      <td>5.0</td>\n",
       "      <td>...</td>\n",
       "      <td>Unmarried</td>\n",
       "      <td>2.0</td>\n",
       "      <td>1</td>\n",
       "      <td>1</td>\n",
       "      <td>1</td>\n",
       "      <td>1.0</td>\n",
       "      <td>Manager</td>\n",
       "      <td>26576.0</td>\n",
       "      <td>0</td>\n",
       "      <td>1</td>\n",
       "    </tr>\n",
       "    <tr>\n",
       "      <th>4884</th>\n",
       "      <td>204884</td>\n",
       "      <td>1</td>\n",
       "      <td>28.000000</td>\n",
       "      <td>Company Invited</td>\n",
       "      <td>1</td>\n",
       "      <td>31.0</td>\n",
       "      <td>Salaried</td>\n",
       "      <td>Male</td>\n",
       "      <td>4</td>\n",
       "      <td>5.0</td>\n",
       "      <td>...</td>\n",
       "      <td>Single</td>\n",
       "      <td>3.0</td>\n",
       "      <td>1</td>\n",
       "      <td>3</td>\n",
       "      <td>1</td>\n",
       "      <td>2.0</td>\n",
       "      <td>Executive</td>\n",
       "      <td>21212.0</td>\n",
       "      <td>1</td>\n",
       "      <td>0</td>\n",
       "    </tr>\n",
       "    <tr>\n",
       "      <th>4885</th>\n",
       "      <td>204885</td>\n",
       "      <td>1</td>\n",
       "      <td>52.000000</td>\n",
       "      <td>Self Enquiry</td>\n",
       "      <td>3</td>\n",
       "      <td>17.0</td>\n",
       "      <td>Salaried</td>\n",
       "      <td>Female</td>\n",
       "      <td>4</td>\n",
       "      <td>4.0</td>\n",
       "      <td>...</td>\n",
       "      <td>Married</td>\n",
       "      <td>7.0</td>\n",
       "      <td>0</td>\n",
       "      <td>1</td>\n",
       "      <td>1</td>\n",
       "      <td>3.0</td>\n",
       "      <td>Senior Manager</td>\n",
       "      <td>31820.0</td>\n",
       "      <td>0</td>\n",
       "      <td>1</td>\n",
       "    </tr>\n",
       "    <tr>\n",
       "      <th>4886</th>\n",
       "      <td>204886</td>\n",
       "      <td>1</td>\n",
       "      <td>19.000000</td>\n",
       "      <td>Self Enquiry</td>\n",
       "      <td>3</td>\n",
       "      <td>16.0</td>\n",
       "      <td>Small Business</td>\n",
       "      <td>Male</td>\n",
       "      <td>3</td>\n",
       "      <td>4.0</td>\n",
       "      <td>...</td>\n",
       "      <td>Single</td>\n",
       "      <td>3.0</td>\n",
       "      <td>0</td>\n",
       "      <td>5</td>\n",
       "      <td>0</td>\n",
       "      <td>2.0</td>\n",
       "      <td>Executive</td>\n",
       "      <td>20289.0</td>\n",
       "      <td>0</td>\n",
       "      <td>1</td>\n",
       "    </tr>\n",
       "    <tr>\n",
       "      <th>4887</th>\n",
       "      <td>204887</td>\n",
       "      <td>1</td>\n",
       "      <td>36.000000</td>\n",
       "      <td>Self Enquiry</td>\n",
       "      <td>1</td>\n",
       "      <td>14.0</td>\n",
       "      <td>Salaried</td>\n",
       "      <td>Male</td>\n",
       "      <td>4</td>\n",
       "      <td>4.0</td>\n",
       "      <td>...</td>\n",
       "      <td>Unmarried</td>\n",
       "      <td>3.0</td>\n",
       "      <td>1</td>\n",
       "      <td>3</td>\n",
       "      <td>1</td>\n",
       "      <td>2.0</td>\n",
       "      <td>Executive</td>\n",
       "      <td>24041.0</td>\n",
       "      <td>0</td>\n",
       "      <td>1</td>\n",
       "    </tr>\n",
       "  </tbody>\n",
       "</table>\n",
       "<p>4888 rows × 22 columns</p>\n",
       "</div>"
      ],
      "text/plain": [
       "      CustomerID  ProdTaken        Age    TypeofContact  CityTier  \\\n",
       "0         200000          1  41.000000     Self Enquiry         3   \n",
       "1         200001          0  49.000000  Company Invited         1   \n",
       "2         200002          1  37.000000     Self Enquiry         1   \n",
       "3         200003          0  33.000000  Company Invited         1   \n",
       "4         200004          0  37.319986     Self Enquiry         1   \n",
       "...          ...        ...        ...              ...       ...   \n",
       "4883      204883          1  49.000000     Self Enquiry         3   \n",
       "4884      204884          1  28.000000  Company Invited         1   \n",
       "4885      204885          1  52.000000     Self Enquiry         3   \n",
       "4886      204886          1  19.000000     Self Enquiry         3   \n",
       "4887      204887          1  36.000000     Self Enquiry         1   \n",
       "\n",
       "      DurationOfPitch      Occupation  Gender  NumberOfPersonVisiting  \\\n",
       "0                 6.0        Salaried  Female                       3   \n",
       "1                14.0        Salaried    Male                       3   \n",
       "2                 8.0     Free Lancer    Male                       3   \n",
       "3                 9.0        Salaried  Female                       2   \n",
       "4                 8.0  Small Business    Male                       2   \n",
       "...               ...             ...     ...                     ...   \n",
       "4883              9.0  Small Business    Male                       3   \n",
       "4884             31.0        Salaried    Male                       4   \n",
       "4885             17.0        Salaried  Female                       4   \n",
       "4886             16.0  Small Business    Male                       3   \n",
       "4887             14.0        Salaried    Male                       4   \n",
       "\n",
       "      NumberOfFollowups  ... MaritalStatus  NumberOfTrips Passport  \\\n",
       "0                   3.0  ...        Single            1.0        1   \n",
       "1                   4.0  ...      Divorced            2.0        0   \n",
       "2                   4.0  ...        Single            7.0        1   \n",
       "3                   3.0  ...      Divorced            2.0        1   \n",
       "4                   3.0  ...      Divorced            1.0        0   \n",
       "...                 ...  ...           ...            ...      ...   \n",
       "4883                5.0  ...     Unmarried            2.0        1   \n",
       "4884                5.0  ...        Single            3.0        1   \n",
       "4885                4.0  ...       Married            7.0        0   \n",
       "4886                4.0  ...        Single            3.0        0   \n",
       "4887                4.0  ...     Unmarried            3.0        1   \n",
       "\n",
       "      PitchSatisfactionScore  OwnCar  NumberOfChildrenVisiting  \\\n",
       "0                          2       1                       0.0   \n",
       "1                          3       1                       2.0   \n",
       "2                          3       0                       0.0   \n",
       "3                          5       1                       1.0   \n",
       "4                          5       1                       0.0   \n",
       "...                      ...     ...                       ...   \n",
       "4883                       1       1                       1.0   \n",
       "4884                       3       1                       2.0   \n",
       "4885                       1       1                       3.0   \n",
       "4886                       5       0                       2.0   \n",
       "4887                       3       1                       2.0   \n",
       "\n",
       "         Designation  MonthlyIncome Company Invited  Self Enquiry  \n",
       "0            Manager        20993.0               0             1  \n",
       "1            Manager        20130.0               1             0  \n",
       "2          Executive        17090.0               0             1  \n",
       "3          Executive        17909.0               1             0  \n",
       "4          Executive        18468.0               0             1  \n",
       "...              ...            ...             ...           ...  \n",
       "4883         Manager        26576.0               0             1  \n",
       "4884       Executive        21212.0               1             0  \n",
       "4885  Senior Manager        31820.0               0             1  \n",
       "4886       Executive        20289.0               0             1  \n",
       "4887       Executive        24041.0               0             1  \n",
       "\n",
       "[4888 rows x 22 columns]"
      ]
     },
     "execution_count": 13,
     "metadata": {},
     "output_type": "execute_result"
    }
   ],
   "source": [
    "pd.concat([df, df['TypeofContact'].str.get_dummies()], axis=1)"
   ]
  },
  {
   "cell_type": "code",
   "execution_count": 14,
   "id": "8110873c-d5e5-49f2-87ab-3ad1884cd791",
   "metadata": {},
   "outputs": [
    {
     "name": "stdout",
     "output_type": "stream",
     "text": [
      "<class 'pandas.core.frame.DataFrame'>\n",
      "RangeIndex: 4888 entries, 0 to 4887\n",
      "Data columns (total 20 columns):\n",
      " #   Column                    Non-Null Count  Dtype  \n",
      "---  ------                    --------------  -----  \n",
      " 0   CustomerID                4888 non-null   int64  \n",
      " 1   ProdTaken                 4888 non-null   int64  \n",
      " 2   Age                       4888 non-null   float64\n",
      " 3   TypeofContact             4863 non-null   object \n",
      " 4   CityTier                  4888 non-null   int64  \n",
      " 5   DurationOfPitch           4637 non-null   float64\n",
      " 6   Occupation                4888 non-null   object \n",
      " 7   Gender                    4888 non-null   object \n",
      " 8   NumberOfPersonVisiting    4888 non-null   int64  \n",
      " 9   NumberOfFollowups         4843 non-null   float64\n",
      " 10  ProductPitched            4888 non-null   object \n",
      " 11  PreferredPropertyStar     4862 non-null   float64\n",
      " 12  MaritalStatus             4888 non-null   object \n",
      " 13  NumberOfTrips             4748 non-null   float64\n",
      " 14  Passport                  4888 non-null   int64  \n",
      " 15  PitchSatisfactionScore    4888 non-null   int64  \n",
      " 16  OwnCar                    4888 non-null   int64  \n",
      " 17  NumberOfChildrenVisiting  4822 non-null   float64\n",
      " 18  Designation               4888 non-null   object \n",
      " 19  MonthlyIncome             4655 non-null   float64\n",
      "dtypes: float64(7), int64(7), object(6)\n",
      "memory usage: 763.9+ KB\n"
     ]
    }
   ],
   "source": [
    "df.info()"
   ]
  },
  {
   "cell_type": "raw",
   "id": "f6c5f302-579b-410b-be3b-1d93a8561e24",
   "metadata": {},
   "source": [
    "del df[['Company Invited','Self Enquiry']]"
   ]
  },
  {
   "cell_type": "code",
   "execution_count": 15,
   "id": "1f01220f-3d4a-4160-8772-858d50a681f0",
   "metadata": {},
   "outputs": [
    {
     "data": {
      "text/plain": [
       "Index(['CustomerID', 'ProdTaken', 'Age', 'TypeofContact', 'CityTier',\n",
       "       'DurationOfPitch', 'Occupation', 'Gender', 'NumberOfPersonVisiting',\n",
       "       'NumberOfFollowups', 'ProductPitched', 'PreferredPropertyStar',\n",
       "       'MaritalStatus', 'NumberOfTrips', 'Passport', 'PitchSatisfactionScore',\n",
       "       'OwnCar', 'NumberOfChildrenVisiting', 'Designation', 'MonthlyIncome'],\n",
       "      dtype='object')"
      ]
     },
     "execution_count": 15,
     "metadata": {},
     "output_type": "execute_result"
    }
   ],
   "source": [
    "df.columns"
   ]
  },
  {
   "cell_type": "code",
   "execution_count": 16,
   "id": "0c6bc5ba-7501-40db-a5bf-f10b0a5af4fd",
   "metadata": {},
   "outputs": [
    {
     "data": {
      "text/plain": [
       "34"
      ]
     },
     "execution_count": 16,
     "metadata": {},
     "output_type": "execute_result"
    }
   ],
   "source": [
    "df['DurationOfPitch'].nunique()"
   ]
  },
  {
   "cell_type": "code",
   "execution_count": 17,
   "id": "7ffb7d5a-d90c-441b-b24c-fba942b6ba7a",
   "metadata": {},
   "outputs": [
    {
     "data": {
      "text/plain": [
       "<AxesSubplot:xlabel='ProdTaken', ylabel='DurationOfPitch'>"
      ]
     },
     "execution_count": 17,
     "metadata": {},
     "output_type": "execute_result"
    },
    {
     "data": {
      "image/png": "[encoded data removed]",
      "text/plain": [
       "<Figure size 432x288 with 1 Axes>"
      ]
     },
     "metadata": {
      "needs_background": "light"
     },
     "output_type": "display_data"
    }
   ],
   "source": [
    "sns.barplot(x=df['ProdTaken'], y=df['DurationOfPitch'])"
   ]
  },
  {
   "cell_type": "code",
   "execution_count": 18,
   "id": "bce4ea26-bb4b-4e9a-993f-8278a4899ab3",
   "metadata": {},
   "outputs": [],
   "source": [
    "avg_pitch_t_0 = df['DurationOfPitch'][df['ProdTaken']==0].mean(skipna=True)\n",
    "avg_pitch_t_1 = df['DurationOfPitch'][df['ProdTaken']==1].mean(skipna=True)"
   ]
  },
  {
   "cell_type": "code",
   "execution_count": 19,
   "id": "6b2e266d-2cab-46cb-9074-da30d585a989",
   "metadata": {},
   "outputs": [
    {
     "data": {
      "text/plain": [
       "15.169324827219564"
      ]
     },
     "execution_count": 19,
     "metadata": {},
     "output_type": "execute_result"
    }
   ],
   "source": [
    "avg_pitch_t_0"
   ]
  },
  {
   "cell_type": "code",
   "execution_count": 20,
   "id": "e43fb949-30ad-4ba8-af8f-9be342679683",
   "metadata": {},
   "outputs": [],
   "source": [
    "def missing_pitch_dur_treatment(x):\n",
    "    if pd.isnull(x['DurationOfPitch']):\n",
    "        if x['ProdTaken']==0:\n",
    "            return avg_pitch_t_0\n",
    "        elif x['ProdTaken']==1:\n",
    "            return avg_pitch_t_1\n",
    "    return x['DurationOfPitch']"
   ]
  },
  {
   "cell_type": "code",
   "execution_count": 21,
   "id": "575a60ec-7569-40a6-932d-f514034b2a3d",
   "metadata": {},
   "outputs": [],
   "source": [
    "df['DurationOfPitch'] = df[['DurationOfPitch','ProdTaken']].apply(missing_pitch_dur_treatment, axis=1)"
   ]
  },
  {
   "cell_type": "code",
   "execution_count": 22,
   "id": "ece8fc81-5a83-4093-96e2-0646288ed255",
   "metadata": {},
   "outputs": [
    {
     "name": "stdout",
     "output_type": "stream",
     "text": [
      "<class 'pandas.core.frame.DataFrame'>\n",
      "RangeIndex: 4888 entries, 0 to 4887\n",
      "Data columns (total 20 columns):\n",
      " #   Column                    Non-Null Count  Dtype  \n",
      "---  ------                    --------------  -----  \n",
      " 0   CustomerID                4888 non-null   int64  \n",
      " 1   ProdTaken                 4888 non-null   int64  \n",
      " 2   Age                       4888 non-null   float64\n",
      " 3   TypeofContact             4863 non-null   object \n",
      " 4   CityTier                  4888 non-null   int64  \n",
      " 5   DurationOfPitch           4888 non-null   float64\n",
      " 6   Occupation                4888 non-null   object \n",
      " 7   Gender                    4888 non-null   object \n",
      " 8   NumberOfPersonVisiting    4888 non-null   int64  \n",
      " 9   NumberOfFollowups         4843 non-null   float64\n",
      " 10  ProductPitched            4888 non-null   object \n",
      " 11  PreferredPropertyStar     4862 non-null   float64\n",
      " 12  MaritalStatus             4888 non-null   object \n",
      " 13  NumberOfTrips             4748 non-null   float64\n",
      " 14  Passport                  4888 non-null   int64  \n",
      " 15  PitchSatisfactionScore    4888 non-null   int64  \n",
      " 16  OwnCar                    4888 non-null   int64  \n",
      " 17  NumberOfChildrenVisiting  4822 non-null   float64\n",
      " 18  Designation               4888 non-null   object \n",
      " 19  MonthlyIncome             4655 non-null   float64\n",
      "dtypes: float64(7), int64(7), object(6)\n",
      "memory usage: 763.9+ KB\n"
     ]
    }
   ],
   "source": [
    "df.info()"
   ]
  },
  {
   "cell_type": "code",
   "execution_count": 23,
   "id": "e0c70b4e-8e3c-4779-aa30-fb66182d6a5b",
   "metadata": {},
   "outputs": [
    {
     "data": {
      "text/plain": [
       "3.0    2993\n",
       "5.0     956\n",
       "4.0     913\n",
       "Name: PreferredPropertyStar, dtype: int64"
      ]
     },
     "execution_count": 23,
     "metadata": {},
     "output_type": "execute_result"
    }
   ],
   "source": [
    "df.PreferredPropertyStar.value_counts()"
   ]
  },
  {
   "cell_type": "code",
   "execution_count": 24,
   "id": "e5ee1c03-af63-426b-8735-b611ab223580",
   "metadata": {},
   "outputs": [
    {
     "data": {
      "text/plain": [
       "<AxesSubplot:xlabel='PreferredPropertyStar', ylabel='MonthlyIncome'>"
      ]
     },
     "execution_count": 24,
     "metadata": {},
     "output_type": "execute_result"
    },
    {
     "data": {
      "image/png": "[encoded data removed]",
      "text/plain": [
       "<Figure size 432x288 with 1 Axes>"
      ]
     },
     "metadata": {
      "needs_background": "light"
     },
     "output_type": "display_data"
    }
   ],
   "source": [
    "sns.barplot(x=df['PreferredPropertyStar'],y=df['MonthlyIncome'])\n",
    "#non dependent on income"
   ]
  },
  {
   "cell_type": "raw",
   "id": "0ff7d2cc-1b6e-416e-9431-208f79ec95f7",
   "metadata": {},
   "source": [
    "plt.bar(x=df['MaritalStatus'],height=df['PreferredPropertyStar'])"
   ]
  },
  {
   "cell_type": "raw",
   "id": "2cf96854-5f04-47e6-9cf8-e6c60c347c18",
   "metadata": {},
   "source": [
    "print(df['Age'][df['MaritalStatus']=='Single'].median())\n",
    "print(df['Age'][df['MaritalStatus']=='Divorced'].median())"
   ]
  },
  {
   "cell_type": "raw",
   "id": "2fa68b9a-89ca-4fb1-9ebd-8ba10f8d82bf",
   "metadata": {},
   "source": [
    "df['Age'].min()"
   ]
  },
  {
   "cell_type": "raw",
   "id": "7de6d1e5-1cd9-43d7-857a-406258fbae5a",
   "metadata": {},
   "source": [
    "for i in ['Single', 'Divorced', 'Married', 'Unmarried']:\n",
    "    print(df['PreferredPropertyStar'][df['MaritalStatus']==i].mean(skipna=True))\n",
    "#non dependent on Marital Status"
   ]
  },
  {
   "cell_type": "raw",
   "id": "cd3c37ad-c997-42c5-8ff1-2a7b46f6ab81",
   "metadata": {},
   "source": [
    "for i in ['Male','Female']:\n",
    "    print(df['PreferredPropertyStar'][df['Gender']==i].mean(skipna=True))\n",
    "#non dependent on Marital Status"
   ]
  },
  {
   "cell_type": "raw",
   "id": "52c8e9cf-a062-4b2c-a8ea-d1b31533feef",
   "metadata": {},
   "source": [
    "for i in [1.0,2.0,3.0,0.0]:\n",
    "    print(df['PreferredPropertyStar'][df['NumberOfChildrenVisiting']==i].mean(skipna=True))\n",
    "#non dependent on No of Children"
   ]
  },
  {
   "cell_type": "code",
   "execution_count": 25,
   "id": "c2e8c18f-598f-48ca-9d74-881666294607",
   "metadata": {},
   "outputs": [
    {
     "name": "stdout",
     "output_type": "stream",
     "text": [
      "3.55187074829932\n",
      "3.0\n",
      "3.611271676300578\n",
      "3.5972222222222223\n"
     ]
    }
   ],
   "source": [
    "for i in ['Salaried', 'Free Lancer', 'Small Business', 'Large Business']:\n",
    "    print(df['PreferredPropertyStar'][df['Occupation']==i].mean(skipna=True))"
   ]
  },
  {
   "cell_type": "code",
   "execution_count": null,
   "id": "05e4c1f4-92ba-4a72-ad0e-0e3e9db1f006",
   "metadata": {},
   "outputs": [],
   "source": []
  },
  {
   "cell_type": "code",
   "execution_count": 26,
   "id": "a6db7f28-6bae-4f89-b595-1ba2ad11042d",
   "metadata": {},
   "outputs": [],
   "source": [
    "list1 = []\n",
    "for i in ['Salaried', 'Free Lancer', 'Small Business', 'Large Business']:\n",
    "    mean = df['PreferredPropertyStar'][df['Occupation']==i].mean(skipna=True)\n",
    "    list1.append(round(mean,0))"
   ]
  },
  {
   "cell_type": "code",
   "execution_count": 27,
   "id": "9977693d-dee7-4f99-8cd3-d2d32222339a",
   "metadata": {},
   "outputs": [
    {
     "data": {
      "text/plain": [
       "[4.0, 3.0, 4.0, 4.0]"
      ]
     },
     "execution_count": 27,
     "metadata": {},
     "output_type": "execute_result"
    }
   ],
   "source": [
    "list1"
   ]
  },
  {
   "cell_type": "code",
   "execution_count": 28,
   "id": "a2ddc51d-f501-44ba-8433-1177b0911e7a",
   "metadata": {},
   "outputs": [],
   "source": [
    "def missing_Pref_prop_star_treatment(x):\n",
    "    if pd.isnull(x['PreferredPropertyStar']):\n",
    "        if x['Occupation']=='Salaried':\n",
    "            return 4.0\n",
    "        elif x['Occupation']=='Free Lancer':\n",
    "            return 3.0\n",
    "        elif x['Occupation']=='Small Business':\n",
    "            return 4.0\n",
    "        elif x['Occupation']=='Large Business':\n",
    "            return 4.0\n",
    "    return x['PreferredPropertyStar']"
   ]
  },
  {
   "cell_type": "code",
   "execution_count": 29,
   "id": "e5fb4fa7-d47c-45ef-b0ee-4ed3430fd429",
   "metadata": {},
   "outputs": [],
   "source": [
    "df['PreferredPropertyStar'] = df[['PreferredPropertyStar','Occupation']].apply(missing_Pref_prop_star_treatment, axis=1)"
   ]
  },
  {
   "cell_type": "code",
   "execution_count": 30,
   "id": "b45a35eb-dfb1-46a2-afc5-53deebc76910",
   "metadata": {},
   "outputs": [
    {
     "name": "stdout",
     "output_type": "stream",
     "text": [
      "<class 'pandas.core.frame.DataFrame'>\n",
      "RangeIndex: 4888 entries, 0 to 4887\n",
      "Data columns (total 20 columns):\n",
      " #   Column                    Non-Null Count  Dtype  \n",
      "---  ------                    --------------  -----  \n",
      " 0   CustomerID                4888 non-null   int64  \n",
      " 1   ProdTaken                 4888 non-null   int64  \n",
      " 2   Age                       4888 non-null   float64\n",
      " 3   TypeofContact             4863 non-null   object \n",
      " 4   CityTier                  4888 non-null   int64  \n",
      " 5   DurationOfPitch           4888 non-null   float64\n",
      " 6   Occupation                4888 non-null   object \n",
      " 7   Gender                    4888 non-null   object \n",
      " 8   NumberOfPersonVisiting    4888 non-null   int64  \n",
      " 9   NumberOfFollowups         4843 non-null   float64\n",
      " 10  ProductPitched            4888 non-null   object \n",
      " 11  PreferredPropertyStar     4888 non-null   float64\n",
      " 12  MaritalStatus             4888 non-null   object \n",
      " 13  NumberOfTrips             4748 non-null   float64\n",
      " 14  Passport                  4888 non-null   int64  \n",
      " 15  PitchSatisfactionScore    4888 non-null   int64  \n",
      " 16  OwnCar                    4888 non-null   int64  \n",
      " 17  NumberOfChildrenVisiting  4822 non-null   float64\n",
      " 18  Designation               4888 non-null   object \n",
      " 19  MonthlyIncome             4655 non-null   float64\n",
      "dtypes: float64(7), int64(7), object(6)\n",
      "memory usage: 763.9+ KB\n"
     ]
    }
   ],
   "source": [
    "df.info()"
   ]
  },
  {
   "cell_type": "code",
   "execution_count": 31,
   "id": "13c04b6b-954a-4b84-9952-758117ba25bc",
   "metadata": {},
   "outputs": [
    {
     "data": {
      "text/html": [
       "<div>\n",
       "<style scoped>\n",
       "    .dataframe tbody tr th:only-of-type {\n",
       "        vertical-align: middle;\n",
       "    }\n",
       "\n",
       "    .dataframe tbody tr th {\n",
       "        vertical-align: top;\n",
       "    }\n",
       "\n",
       "    .dataframe thead th {\n",
       "        text-align: right;\n",
       "    }\n",
       "</style>\n",
       "<table border=\"1\" class=\"dataframe\">\n",
       "  <thead>\n",
       "    <tr style=\"text-align: right;\">\n",
       "      <th></th>\n",
       "      <th>count</th>\n",
       "      <th>mean</th>\n",
       "      <th>std</th>\n",
       "      <th>min</th>\n",
       "      <th>25%</th>\n",
       "      <th>50%</th>\n",
       "      <th>75%</th>\n",
       "      <th>max</th>\n",
       "    </tr>\n",
       "    <tr>\n",
       "      <th>MaritalStatus</th>\n",
       "      <th></th>\n",
       "      <th></th>\n",
       "      <th></th>\n",
       "      <th></th>\n",
       "      <th></th>\n",
       "      <th></th>\n",
       "      <th></th>\n",
       "      <th></th>\n",
       "    </tr>\n",
       "  </thead>\n",
       "  <tbody>\n",
       "    <tr>\n",
       "      <th>Divorced</th>\n",
       "      <td>915.0</td>\n",
       "      <td>3.234973</td>\n",
       "      <td>1.774016</td>\n",
       "      <td>1.0</td>\n",
       "      <td>2.0</td>\n",
       "      <td>3.0</td>\n",
       "      <td>4.0</td>\n",
       "      <td>8.0</td>\n",
       "    </tr>\n",
       "    <tr>\n",
       "      <th>Married</th>\n",
       "      <td>2262.0</td>\n",
       "      <td>3.310787</td>\n",
       "      <td>1.804280</td>\n",
       "      <td>1.0</td>\n",
       "      <td>2.0</td>\n",
       "      <td>3.0</td>\n",
       "      <td>5.0</td>\n",
       "      <td>8.0</td>\n",
       "    </tr>\n",
       "    <tr>\n",
       "      <th>Single</th>\n",
       "      <td>889.0</td>\n",
       "      <td>2.950506</td>\n",
       "      <td>1.892917</td>\n",
       "      <td>1.0</td>\n",
       "      <td>2.0</td>\n",
       "      <td>2.0</td>\n",
       "      <td>4.0</td>\n",
       "      <td>20.0</td>\n",
       "    </tr>\n",
       "    <tr>\n",
       "      <th>Unmarried</th>\n",
       "      <td>682.0</td>\n",
       "      <td>3.365103</td>\n",
       "      <td>1.996358</td>\n",
       "      <td>1.0</td>\n",
       "      <td>2.0</td>\n",
       "      <td>3.0</td>\n",
       "      <td>4.0</td>\n",
       "      <td>22.0</td>\n",
       "    </tr>\n",
       "  </tbody>\n",
       "</table>\n",
       "</div>"
      ],
      "text/plain": [
       "                count      mean       std  min  25%  50%  75%   max\n",
       "MaritalStatus                                                      \n",
       "Divorced        915.0  3.234973  1.774016  1.0  2.0  3.0  4.0   8.0\n",
       "Married        2262.0  3.310787  1.804280  1.0  2.0  3.0  5.0   8.0\n",
       "Single          889.0  2.950506  1.892917  1.0  2.0  2.0  4.0  20.0\n",
       "Unmarried       682.0  3.365103  1.996358  1.0  2.0  3.0  4.0  22.0"
      ]
     },
     "execution_count": 31,
     "metadata": {},
     "output_type": "execute_result"
    }
   ],
   "source": [
    "df['NumberOfTrips'].groupby(by=df['MaritalStatus']).describe()"
   ]
  },
  {
   "cell_type": "code",
   "execution_count": 32,
   "id": "48bf54ac-d376-4e4f-aad1-877f65e4b580",
   "metadata": {},
   "outputs": [
    {
     "name": "stdout",
     "output_type": "stream",
     "text": [
      "<class 'pandas.core.frame.DataFrame'>\n",
      "RangeIndex: 4888 entries, 0 to 4887\n",
      "Data columns (total 20 columns):\n",
      " #   Column                    Non-Null Count  Dtype  \n",
      "---  ------                    --------------  -----  \n",
      " 0   CustomerID                4888 non-null   int64  \n",
      " 1   ProdTaken                 4888 non-null   int64  \n",
      " 2   Age                       4888 non-null   float64\n",
      " 3   TypeofContact             4863 non-null   object \n",
      " 4   CityTier                  4888 non-null   int64  \n",
      " 5   DurationOfPitch           4888 non-null   float64\n",
      " 6   Occupation                4888 non-null   object \n",
      " 7   Gender                    4888 non-null   object \n",
      " 8   NumberOfPersonVisiting    4888 non-null   int64  \n",
      " 9   NumberOfFollowups         4843 non-null   float64\n",
      " 10  ProductPitched            4888 non-null   object \n",
      " 11  PreferredPropertyStar     4888 non-null   float64\n",
      " 12  MaritalStatus             4888 non-null   object \n",
      " 13  NumberOfTrips             4748 non-null   float64\n",
      " 14  Passport                  4888 non-null   int64  \n",
      " 15  PitchSatisfactionScore    4888 non-null   int64  \n",
      " 16  OwnCar                    4888 non-null   int64  \n",
      " 17  NumberOfChildrenVisiting  4822 non-null   float64\n",
      " 18  Designation               4888 non-null   object \n",
      " 19  MonthlyIncome             4655 non-null   float64\n",
      "dtypes: float64(7), int64(7), object(6)\n",
      "memory usage: 763.9+ KB\n"
     ]
    }
   ],
   "source": [
    "df.info()"
   ]
  },
  {
   "cell_type": "code",
   "execution_count": 33,
   "id": "d95ccaec-fb3f-4401-ae7c-b223a1c73020",
   "metadata": {},
   "outputs": [
    {
     "data": {
      "text/html": [
       "<div>\n",
       "<style scoped>\n",
       "    .dataframe tbody tr th:only-of-type {\n",
       "        vertical-align: middle;\n",
       "    }\n",
       "\n",
       "    .dataframe tbody tr th {\n",
       "        vertical-align: top;\n",
       "    }\n",
       "\n",
       "    .dataframe thead th {\n",
       "        text-align: right;\n",
       "    }\n",
       "</style>\n",
       "<table border=\"1\" class=\"dataframe\">\n",
       "  <thead>\n",
       "    <tr style=\"text-align: right;\">\n",
       "      <th></th>\n",
       "      <th>count</th>\n",
       "      <th>mean</th>\n",
       "      <th>std</th>\n",
       "      <th>min</th>\n",
       "      <th>25%</th>\n",
       "      <th>50%</th>\n",
       "      <th>75%</th>\n",
       "      <th>max</th>\n",
       "    </tr>\n",
       "    <tr>\n",
       "      <th>MaritalStatus</th>\n",
       "      <th></th>\n",
       "      <th></th>\n",
       "      <th></th>\n",
       "      <th></th>\n",
       "      <th></th>\n",
       "      <th></th>\n",
       "      <th></th>\n",
       "      <th></th>\n",
       "    </tr>\n",
       "  </thead>\n",
       "  <tbody>\n",
       "    <tr>\n",
       "      <th>Divorced</th>\n",
       "      <td>933.0</td>\n",
       "      <td>1.157556</td>\n",
       "      <td>0.871484</td>\n",
       "      <td>0.0</td>\n",
       "      <td>1.0</td>\n",
       "      <td>1.0</td>\n",
       "      <td>2.0</td>\n",
       "      <td>3.0</td>\n",
       "    </tr>\n",
       "    <tr>\n",
       "      <th>Married</th>\n",
       "      <td>2311.0</td>\n",
       "      <td>1.212462</td>\n",
       "      <td>0.860052</td>\n",
       "      <td>0.0</td>\n",
       "      <td>1.0</td>\n",
       "      <td>1.0</td>\n",
       "      <td>2.0</td>\n",
       "      <td>3.0</td>\n",
       "    </tr>\n",
       "    <tr>\n",
       "      <th>Single</th>\n",
       "      <td>896.0</td>\n",
       "      <td>0.997768</td>\n",
       "      <td>0.834986</td>\n",
       "      <td>0.0</td>\n",
       "      <td>0.0</td>\n",
       "      <td>1.0</td>\n",
       "      <td>2.0</td>\n",
       "      <td>3.0</td>\n",
       "    </tr>\n",
       "    <tr>\n",
       "      <th>Unmarried</th>\n",
       "      <td>682.0</td>\n",
       "      <td>1.391496</td>\n",
       "      <td>0.807882</td>\n",
       "      <td>0.0</td>\n",
       "      <td>1.0</td>\n",
       "      <td>1.0</td>\n",
       "      <td>2.0</td>\n",
       "      <td>3.0</td>\n",
       "    </tr>\n",
       "  </tbody>\n",
       "</table>\n",
       "</div>"
      ],
      "text/plain": [
       "                count      mean       std  min  25%  50%  75%  max\n",
       "MaritalStatus                                                     \n",
       "Divorced        933.0  1.157556  0.871484  0.0  1.0  1.0  2.0  3.0\n",
       "Married        2311.0  1.212462  0.860052  0.0  1.0  1.0  2.0  3.0\n",
       "Single          896.0  0.997768  0.834986  0.0  0.0  1.0  2.0  3.0\n",
       "Unmarried       682.0  1.391496  0.807882  0.0  1.0  1.0  2.0  3.0"
      ]
     },
     "execution_count": 33,
     "metadata": {},
     "output_type": "execute_result"
    }
   ],
   "source": [
    "df['NumberOfChildrenVisiting'].groupby(by=df['MaritalStatus']).describe()"
   ]
  },
  {
   "cell_type": "code",
   "execution_count": 34,
   "id": "86febbbd-02a8-4ea8-b2ce-6fb66c98ada1",
   "metadata": {},
   "outputs": [],
   "source": [
    "def NoOfChildren_missing_value_tret(x):\n",
    "    if pd.isnull(x['NumberOfChildrenVisiting']):\n",
    "        return 1.0\n",
    "    return x['NumberOfChildrenVisiting']"
   ]
  },
  {
   "cell_type": "code",
   "execution_count": 35,
   "id": "27865e1d-8959-4d27-9061-4687c7dfe054",
   "metadata": {},
   "outputs": [],
   "source": [
    "df['NumberOfChildrenVisiting'] = df[['NumberOfChildrenVisiting','Gender']].apply(NoOfChildren_missing_value_tret, axis=1)"
   ]
  },
  {
   "cell_type": "code",
   "execution_count": 36,
   "id": "2c55e62d-dd6f-401e-b896-8e170596326c",
   "metadata": {},
   "outputs": [],
   "source": [
    "df['NumberOfChildrenVisiting'] = df['NumberOfChildrenVisiting'].apply(lambda x:int(x))"
   ]
  },
  {
   "cell_type": "raw",
   "id": "e603f4f7-722e-413f-a3a7-0ba32ff15b64",
   "metadata": {},
   "source": [
    "lambda x: 1.0 if pd.isnull(df['NumberOfChildrenVisiting'])==True"
   ]
  },
  {
   "cell_type": "code",
   "execution_count": 37,
   "id": "520687cc-c2df-4b64-adfe-cc7190383850",
   "metadata": {},
   "outputs": [
    {
     "name": "stdout",
     "output_type": "stream",
     "text": [
      "<class 'pandas.core.frame.DataFrame'>\n",
      "RangeIndex: 4888 entries, 0 to 4887\n",
      "Data columns (total 20 columns):\n",
      " #   Column                    Non-Null Count  Dtype  \n",
      "---  ------                    --------------  -----  \n",
      " 0   CustomerID                4888 non-null   int64  \n",
      " 1   ProdTaken                 4888 non-null   int64  \n",
      " 2   Age                       4888 non-null   float64\n",
      " 3   TypeofContact             4863 non-null   object \n",
      " 4   CityTier                  4888 non-null   int64  \n",
      " 5   DurationOfPitch           4888 non-null   float64\n",
      " 6   Occupation                4888 non-null   object \n",
      " 7   Gender                    4888 non-null   object \n",
      " 8   NumberOfPersonVisiting    4888 non-null   int64  \n",
      " 9   NumberOfFollowups         4843 non-null   float64\n",
      " 10  ProductPitched            4888 non-null   object \n",
      " 11  PreferredPropertyStar     4888 non-null   float64\n",
      " 12  MaritalStatus             4888 non-null   object \n",
      " 13  NumberOfTrips             4748 non-null   float64\n",
      " 14  Passport                  4888 non-null   int64  \n",
      " 15  PitchSatisfactionScore    4888 non-null   int64  \n",
      " 16  OwnCar                    4888 non-null   int64  \n",
      " 17  NumberOfChildrenVisiting  4888 non-null   int64  \n",
      " 18  Designation               4888 non-null   object \n",
      " 19  MonthlyIncome             4655 non-null   float64\n",
      "dtypes: float64(6), int64(8), object(6)\n",
      "memory usage: 763.9+ KB\n"
     ]
    }
   ],
   "source": [
    "df.info()"
   ]
  },
  {
   "cell_type": "code",
   "execution_count": 38,
   "id": "caf35087-9151-4210-8af7-8c916ca83c73",
   "metadata": {
    "scrolled": true,
    "tags": []
   },
   "outputs": [
    {
     "data": {
      "text/html": [
       "<div>\n",
       "<style scoped>\n",
       "    .dataframe tbody tr th:only-of-type {\n",
       "        vertical-align: middle;\n",
       "    }\n",
       "\n",
       "    .dataframe tbody tr th {\n",
       "        vertical-align: top;\n",
       "    }\n",
       "\n",
       "    .dataframe thead th {\n",
       "        text-align: right;\n",
       "    }\n",
       "</style>\n",
       "<table border=\"1\" class=\"dataframe\">\n",
       "  <thead>\n",
       "    <tr style=\"text-align: right;\">\n",
       "      <th></th>\n",
       "      <th>count</th>\n",
       "      <th>mean</th>\n",
       "      <th>std</th>\n",
       "      <th>min</th>\n",
       "      <th>25%</th>\n",
       "      <th>50%</th>\n",
       "      <th>75%</th>\n",
       "      <th>max</th>\n",
       "    </tr>\n",
       "    <tr>\n",
       "      <th>Age</th>\n",
       "      <th></th>\n",
       "      <th></th>\n",
       "      <th></th>\n",
       "      <th></th>\n",
       "      <th></th>\n",
       "      <th></th>\n",
       "      <th></th>\n",
       "      <th></th>\n",
       "    </tr>\n",
       "  </thead>\n",
       "  <tbody>\n",
       "    <tr>\n",
       "      <th>18.000000</th>\n",
       "      <td>14.0</td>\n",
       "      <td>16515.071429</td>\n",
       "      <td>308.173394</td>\n",
       "      <td>16051.0</td>\n",
       "      <td>16255.00</td>\n",
       "      <td>16541.5</td>\n",
       "      <td>16811.25</td>\n",
       "      <td>16904.0</td>\n",
       "    </tr>\n",
       "    <tr>\n",
       "      <th>19.000000</th>\n",
       "      <td>32.0</td>\n",
       "      <td>18439.156250</td>\n",
       "      <td>1641.769622</td>\n",
       "      <td>16102.0</td>\n",
       "      <td>17055.50</td>\n",
       "      <td>17779.0</td>\n",
       "      <td>20121.50</td>\n",
       "      <td>20582.0</td>\n",
       "    </tr>\n",
       "    <tr>\n",
       "      <th>20.000000</th>\n",
       "      <td>38.0</td>\n",
       "      <td>19050.236842</td>\n",
       "      <td>1737.170150</td>\n",
       "      <td>16009.0</td>\n",
       "      <td>17690.50</td>\n",
       "      <td>18033.0</td>\n",
       "      <td>20733.50</td>\n",
       "      <td>21672.0</td>\n",
       "    </tr>\n",
       "    <tr>\n",
       "      <th>21.000000</th>\n",
       "      <td>41.0</td>\n",
       "      <td>19234.707317</td>\n",
       "      <td>2027.290596</td>\n",
       "      <td>16232.0</td>\n",
       "      <td>17610.00</td>\n",
       "      <td>18230.0</td>\n",
       "      <td>21356.00</td>\n",
       "      <td>21711.0</td>\n",
       "    </tr>\n",
       "    <tr>\n",
       "      <th>22.000000</th>\n",
       "      <td>46.0</td>\n",
       "      <td>19457.217391</td>\n",
       "      <td>1824.211049</td>\n",
       "      <td>17244.0</td>\n",
       "      <td>17585.50</td>\n",
       "      <td>19842.5</td>\n",
       "      <td>21299.25</td>\n",
       "      <td>22125.0</td>\n",
       "    </tr>\n",
       "    <tr>\n",
       "      <th>23.000000</th>\n",
       "      <td>46.0</td>\n",
       "      <td>19943.804348</td>\n",
       "      <td>2266.242682</td>\n",
       "      <td>16223.0</td>\n",
       "      <td>17536.75</td>\n",
       "      <td>21006.0</td>\n",
       "      <td>21531.00</td>\n",
       "      <td>23453.0</td>\n",
       "    </tr>\n",
       "    <tr>\n",
       "      <th>24.000000</th>\n",
       "      <td>51.0</td>\n",
       "      <td>19259.666667</td>\n",
       "      <td>1814.718233</td>\n",
       "      <td>16555.0</td>\n",
       "      <td>17694.00</td>\n",
       "      <td>19577.0</td>\n",
       "      <td>20976.50</td>\n",
       "      <td>22667.0</td>\n",
       "    </tr>\n",
       "    <tr>\n",
       "      <th>25.000000</th>\n",
       "      <td>71.0</td>\n",
       "      <td>20825.281690</td>\n",
       "      <td>1981.154982</td>\n",
       "      <td>16118.0</td>\n",
       "      <td>19902.50</td>\n",
       "      <td>21078.0</td>\n",
       "      <td>22275.00</td>\n",
       "      <td>23677.0</td>\n",
       "    </tr>\n",
       "    <tr>\n",
       "      <th>26.000000</th>\n",
       "      <td>98.0</td>\n",
       "      <td>20462.469388</td>\n",
       "      <td>2645.055014</td>\n",
       "      <td>17007.0</td>\n",
       "      <td>17772.50</td>\n",
       "      <td>20623.0</td>\n",
       "      <td>22678.00</td>\n",
       "      <td>27317.0</td>\n",
       "    </tr>\n",
       "    <tr>\n",
       "      <th>27.000000</th>\n",
       "      <td>130.0</td>\n",
       "      <td>20863.084615</td>\n",
       "      <td>2626.960377</td>\n",
       "      <td>16706.0</td>\n",
       "      <td>17824.00</td>\n",
       "      <td>21178.0</td>\n",
       "      <td>22937.75</td>\n",
       "      <td>27808.0</td>\n",
       "    </tr>\n",
       "    <tr>\n",
       "      <th>28.000000</th>\n",
       "      <td>144.0</td>\n",
       "      <td>21126.847222</td>\n",
       "      <td>3083.043468</td>\n",
       "      <td>16052.0</td>\n",
       "      <td>18201.00</td>\n",
       "      <td>21038.0</td>\n",
       "      <td>22905.00</td>\n",
       "      <td>31486.0</td>\n",
       "    </tr>\n",
       "    <tr>\n",
       "      <th>29.000000</th>\n",
       "      <td>172.0</td>\n",
       "      <td>20977.186047</td>\n",
       "      <td>2963.271337</td>\n",
       "      <td>16091.0</td>\n",
       "      <td>17800.00</td>\n",
       "      <td>21070.5</td>\n",
       "      <td>22704.00</td>\n",
       "      <td>31124.0</td>\n",
       "    </tr>\n",
       "    <tr>\n",
       "      <th>30.000000</th>\n",
       "      <td>199.0</td>\n",
       "      <td>21777.733668</td>\n",
       "      <td>3257.153447</td>\n",
       "      <td>16081.0</td>\n",
       "      <td>20126.00</td>\n",
       "      <td>21378.0</td>\n",
       "      <td>23406.50</td>\n",
       "      <td>34802.0</td>\n",
       "    </tr>\n",
       "    <tr>\n",
       "      <th>31.000000</th>\n",
       "      <td>195.0</td>\n",
       "      <td>22251.128205</td>\n",
       "      <td>3206.720239</td>\n",
       "      <td>16129.0</td>\n",
       "      <td>20711.00</td>\n",
       "      <td>21812.0</td>\n",
       "      <td>24217.50</td>\n",
       "      <td>31422.0</td>\n",
       "    </tr>\n",
       "    <tr>\n",
       "      <th>32.000000</th>\n",
       "      <td>193.0</td>\n",
       "      <td>22427.062176</td>\n",
       "      <td>3431.592232</td>\n",
       "      <td>16393.0</td>\n",
       "      <td>20175.00</td>\n",
       "      <td>21589.0</td>\n",
       "      <td>24610.00</td>\n",
       "      <td>35100.0</td>\n",
       "    </tr>\n",
       "    <tr>\n",
       "      <th>33.000000</th>\n",
       "      <td>185.0</td>\n",
       "      <td>22390.324324</td>\n",
       "      <td>3459.035533</td>\n",
       "      <td>17008.0</td>\n",
       "      <td>20324.00</td>\n",
       "      <td>22104.0</td>\n",
       "      <td>24074.00</td>\n",
       "      <td>32444.0</td>\n",
       "    </tr>\n",
       "    <tr>\n",
       "      <th>34.000000</th>\n",
       "      <td>204.0</td>\n",
       "      <td>22250.279412</td>\n",
       "      <td>3812.136664</td>\n",
       "      <td>17008.0</td>\n",
       "      <td>20106.50</td>\n",
       "      <td>21477.0</td>\n",
       "      <td>24013.00</td>\n",
       "      <td>36122.0</td>\n",
       "    </tr>\n",
       "    <tr>\n",
       "      <th>35.000000</th>\n",
       "      <td>227.0</td>\n",
       "      <td>22486.766520</td>\n",
       "      <td>3256.117384</td>\n",
       "      <td>16281.0</td>\n",
       "      <td>20687.50</td>\n",
       "      <td>22664.0</td>\n",
       "      <td>24608.50</td>\n",
       "      <td>35685.0</td>\n",
       "    </tr>\n",
       "    <tr>\n",
       "      <th>36.000000</th>\n",
       "      <td>230.0</td>\n",
       "      <td>23012.339130</td>\n",
       "      <td>5748.497956</td>\n",
       "      <td>17013.0</td>\n",
       "      <td>20674.00</td>\n",
       "      <td>22504.0</td>\n",
       "      <td>24699.00</td>\n",
       "      <td>95000.0</td>\n",
       "    </tr>\n",
       "    <tr>\n",
       "      <th>37.000000</th>\n",
       "      <td>181.0</td>\n",
       "      <td>23655.712707</td>\n",
       "      <td>6444.511405</td>\n",
       "      <td>17073.0</td>\n",
       "      <td>21249.00</td>\n",
       "      <td>23317.0</td>\n",
       "      <td>25330.00</td>\n",
       "      <td>98678.0</td>\n",
       "    </tr>\n",
       "    <tr>\n",
       "      <th>37.319986</th>\n",
       "      <td>71.0</td>\n",
       "      <td>18535.746479</td>\n",
       "      <td>106.077292</td>\n",
       "      <td>18348.0</td>\n",
       "      <td>18447.00</td>\n",
       "      <td>18505.0</td>\n",
       "      <td>18622.00</td>\n",
       "      <td>18708.0</td>\n",
       "    </tr>\n",
       "    <tr>\n",
       "      <th>38.000000</th>\n",
       "      <td>174.0</td>\n",
       "      <td>22759.413793</td>\n",
       "      <td>3912.550262</td>\n",
       "      <td>1000.0</td>\n",
       "      <td>20751.00</td>\n",
       "      <td>22598.0</td>\n",
       "      <td>25012.00</td>\n",
       "      <td>32422.0</td>\n",
       "    </tr>\n",
       "    <tr>\n",
       "      <th>38.065608</th>\n",
       "      <td>25.0</td>\n",
       "      <td>18522.920000</td>\n",
       "      <td>106.915824</td>\n",
       "      <td>18376.0</td>\n",
       "      <td>18448.00</td>\n",
       "      <td>18506.0</td>\n",
       "      <td>18629.00</td>\n",
       "      <td>18702.0</td>\n",
       "    </tr>\n",
       "    <tr>\n",
       "      <th>39.000000</th>\n",
       "      <td>150.0</td>\n",
       "      <td>24244.280000</td>\n",
       "      <td>4258.751257</td>\n",
       "      <td>4678.0</td>\n",
       "      <td>21362.00</td>\n",
       "      <td>24014.0</td>\n",
       "      <td>26512.75</td>\n",
       "      <td>34431.0</td>\n",
       "    </tr>\n",
       "    <tr>\n",
       "      <th>40.000000</th>\n",
       "      <td>139.0</td>\n",
       "      <td>25269.287770</td>\n",
       "      <td>5509.576738</td>\n",
       "      <td>17001.0</td>\n",
       "      <td>21202.50</td>\n",
       "      <td>24094.0</td>\n",
       "      <td>28503.00</td>\n",
       "      <td>38109.0</td>\n",
       "    </tr>\n",
       "    <tr>\n",
       "      <th>41.000000</th>\n",
       "      <td>154.0</td>\n",
       "      <td>25569.110390</td>\n",
       "      <td>5746.889669</td>\n",
       "      <td>17107.0</td>\n",
       "      <td>21170.75</td>\n",
       "      <td>23772.0</td>\n",
       "      <td>29533.00</td>\n",
       "      <td>38511.0</td>\n",
       "    </tr>\n",
       "    <tr>\n",
       "      <th>42.000000</th>\n",
       "      <td>137.0</td>\n",
       "      <td>25429.649635</td>\n",
       "      <td>6263.882601</td>\n",
       "      <td>17093.0</td>\n",
       "      <td>20805.00</td>\n",
       "      <td>23444.0</td>\n",
       "      <td>29125.00</td>\n",
       "      <td>38651.0</td>\n",
       "    </tr>\n",
       "    <tr>\n",
       "      <th>43.000000</th>\n",
       "      <td>130.0</td>\n",
       "      <td>25537.792308</td>\n",
       "      <td>5863.753997</td>\n",
       "      <td>17089.0</td>\n",
       "      <td>21254.00</td>\n",
       "      <td>23871.0</td>\n",
       "      <td>31064.00</td>\n",
       "      <td>38291.0</td>\n",
       "    </tr>\n",
       "    <tr>\n",
       "      <th>44.000000</th>\n",
       "      <td>105.0</td>\n",
       "      <td>24893.676190</td>\n",
       "      <td>6197.280159</td>\n",
       "      <td>17011.0</td>\n",
       "      <td>20743.00</td>\n",
       "      <td>23443.0</td>\n",
       "      <td>28909.00</td>\n",
       "      <td>38418.0</td>\n",
       "    </tr>\n",
       "    <tr>\n",
       "      <th>45.000000</th>\n",
       "      <td>109.0</td>\n",
       "      <td>24802.752294</td>\n",
       "      <td>5693.517646</td>\n",
       "      <td>17132.0</td>\n",
       "      <td>20770.00</td>\n",
       "      <td>23219.0</td>\n",
       "      <td>28496.00</td>\n",
       "      <td>38191.0</td>\n",
       "    </tr>\n",
       "    <tr>\n",
       "      <th>46.000000</th>\n",
       "      <td>121.0</td>\n",
       "      <td>26654.528926</td>\n",
       "      <td>5292.350440</td>\n",
       "      <td>19615.0</td>\n",
       "      <td>22379.00</td>\n",
       "      <td>24619.0</td>\n",
       "      <td>31923.00</td>\n",
       "      <td>37880.0</td>\n",
       "    </tr>\n",
       "    <tr>\n",
       "      <th>47.000000</th>\n",
       "      <td>88.0</td>\n",
       "      <td>27871.568182</td>\n",
       "      <td>6163.684573</td>\n",
       "      <td>17105.0</td>\n",
       "      <td>23439.25</td>\n",
       "      <td>27842.5</td>\n",
       "      <td>32451.75</td>\n",
       "      <td>38305.0</td>\n",
       "    </tr>\n",
       "    <tr>\n",
       "      <th>48.000000</th>\n",
       "      <td>63.0</td>\n",
       "      <td>26324.269841</td>\n",
       "      <td>5764.869901</td>\n",
       "      <td>17259.0</td>\n",
       "      <td>22469.50</td>\n",
       "      <td>23748.0</td>\n",
       "      <td>31124.50</td>\n",
       "      <td>38336.0</td>\n",
       "    </tr>\n",
       "    <tr>\n",
       "      <th>49.000000</th>\n",
       "      <td>64.0</td>\n",
       "      <td>26869.093750</td>\n",
       "      <td>5745.747628</td>\n",
       "      <td>17587.0</td>\n",
       "      <td>21765.75</td>\n",
       "      <td>25965.0</td>\n",
       "      <td>31976.00</td>\n",
       "      <td>38343.0</td>\n",
       "    </tr>\n",
       "    <tr>\n",
       "      <th>50.000000</th>\n",
       "      <td>86.0</td>\n",
       "      <td>28653.534884</td>\n",
       "      <td>5875.204114</td>\n",
       "      <td>17380.0</td>\n",
       "      <td>23873.00</td>\n",
       "      <td>29527.0</td>\n",
       "      <td>33193.00</td>\n",
       "      <td>38180.0</td>\n",
       "    </tr>\n",
       "    <tr>\n",
       "      <th>51.000000</th>\n",
       "      <td>90.0</td>\n",
       "      <td>28632.511111</td>\n",
       "      <td>6984.577071</td>\n",
       "      <td>17075.0</td>\n",
       "      <td>22368.00</td>\n",
       "      <td>28438.0</td>\n",
       "      <td>35988.75</td>\n",
       "      <td>38604.0</td>\n",
       "    </tr>\n",
       "    <tr>\n",
       "      <th>52.000000</th>\n",
       "      <td>66.0</td>\n",
       "      <td>27498.500000</td>\n",
       "      <td>6007.800089</td>\n",
       "      <td>17950.0</td>\n",
       "      <td>21879.25</td>\n",
       "      <td>27204.5</td>\n",
       "      <td>32099.00</td>\n",
       "      <td>38525.0</td>\n",
       "    </tr>\n",
       "    <tr>\n",
       "      <th>53.000000</th>\n",
       "      <td>64.0</td>\n",
       "      <td>28389.000000</td>\n",
       "      <td>5925.608500</td>\n",
       "      <td>17306.0</td>\n",
       "      <td>23381.00</td>\n",
       "      <td>28544.0</td>\n",
       "      <td>32839.50</td>\n",
       "      <td>38677.0</td>\n",
       "    </tr>\n",
       "    <tr>\n",
       "      <th>54.000000</th>\n",
       "      <td>60.0</td>\n",
       "      <td>28636.333333</td>\n",
       "      <td>5527.272999</td>\n",
       "      <td>17897.0</td>\n",
       "      <td>25502.00</td>\n",
       "      <td>28986.5</td>\n",
       "      <td>33087.75</td>\n",
       "      <td>37772.0</td>\n",
       "    </tr>\n",
       "    <tr>\n",
       "      <th>55.000000</th>\n",
       "      <td>64.0</td>\n",
       "      <td>29271.625000</td>\n",
       "      <td>5351.682885</td>\n",
       "      <td>17662.0</td>\n",
       "      <td>24618.00</td>\n",
       "      <td>29417.0</td>\n",
       "      <td>34045.00</td>\n",
       "      <td>38084.0</td>\n",
       "    </tr>\n",
       "    <tr>\n",
       "      <th>56.000000</th>\n",
       "      <td>56.0</td>\n",
       "      <td>29407.696429</td>\n",
       "      <td>6985.383074</td>\n",
       "      <td>17066.0</td>\n",
       "      <td>23556.75</td>\n",
       "      <td>29654.0</td>\n",
       "      <td>35434.00</td>\n",
       "      <td>38537.0</td>\n",
       "    </tr>\n",
       "    <tr>\n",
       "      <th>57.000000</th>\n",
       "      <td>29.0</td>\n",
       "      <td>26907.379310</td>\n",
       "      <td>5923.496750</td>\n",
       "      <td>19900.0</td>\n",
       "      <td>21755.00</td>\n",
       "      <td>24439.0</td>\n",
       "      <td>29781.00</td>\n",
       "      <td>38621.0</td>\n",
       "    </tr>\n",
       "    <tr>\n",
       "      <th>58.000000</th>\n",
       "      <td>31.0</td>\n",
       "      <td>24928.774194</td>\n",
       "      <td>5943.284534</td>\n",
       "      <td>17372.0</td>\n",
       "      <td>18346.00</td>\n",
       "      <td>25312.0</td>\n",
       "      <td>28872.00</td>\n",
       "      <td>34701.0</td>\n",
       "    </tr>\n",
       "    <tr>\n",
       "      <th>59.000000</th>\n",
       "      <td>44.0</td>\n",
       "      <td>25580.818182</td>\n",
       "      <td>6276.185041</td>\n",
       "      <td>17177.0</td>\n",
       "      <td>21050.00</td>\n",
       "      <td>24338.0</td>\n",
       "      <td>29050.00</td>\n",
       "      <td>38379.0</td>\n",
       "    </tr>\n",
       "    <tr>\n",
       "      <th>60.000000</th>\n",
       "      <td>29.0</td>\n",
       "      <td>26245.482759</td>\n",
       "      <td>5506.548638</td>\n",
       "      <td>20220.0</td>\n",
       "      <td>20945.00</td>\n",
       "      <td>25266.0</td>\n",
       "      <td>30582.00</td>\n",
       "      <td>37522.0</td>\n",
       "    </tr>\n",
       "    <tr>\n",
       "      <th>61.000000</th>\n",
       "      <td>9.0</td>\n",
       "      <td>28877.666667</td>\n",
       "      <td>5825.632605</td>\n",
       "      <td>23898.0</td>\n",
       "      <td>24083.00</td>\n",
       "      <td>28944.0</td>\n",
       "      <td>29561.00</td>\n",
       "      <td>38244.0</td>\n",
       "    </tr>\n",
       "  </tbody>\n",
       "</table>\n",
       "</div>"
      ],
      "text/plain": [
       "           count          mean          std      min       25%      50%  \\\n",
       "Age                                                                       \n",
       "18.000000   14.0  16515.071429   308.173394  16051.0  16255.00  16541.5   \n",
       "19.000000   32.0  18439.156250  1641.769622  16102.0  17055.50  17779.0   \n",
       "20.000000   38.0  19050.236842  1737.170150  16009.0  17690.50  18033.0   \n",
       "21.000000   41.0  19234.707317  2027.290596  16232.0  17610.00  18230.0   \n",
       "22.000000   46.0  19457.217391  1824.211049  17244.0  17585.50  19842.5   \n",
       "23.000000   46.0  19943.804348  2266.242682  16223.0  17536.75  21006.0   \n",
       "24.000000   51.0  19259.666667  1814.718233  16555.0  17694.00  19577.0   \n",
       "25.000000   71.0  20825.281690  1981.154982  16118.0  19902.50  21078.0   \n",
       "26.000000   98.0  20462.469388  2645.055014  17007.0  17772.50  20623.0   \n",
       "27.000000  130.0  20863.084615  2626.960377  16706.0  17824.00  21178.0   \n",
       "28.000000  144.0  21126.847222  3083.043468  16052.0  18201.00  21038.0   \n",
       "29.000000  172.0  20977.186047  2963.271337  16091.0  17800.00  21070.5   \n",
       "30.000000  199.0  21777.733668  3257.153447  16081.0  20126.00  21378.0   \n",
       "31.000000  195.0  22251.128205  3206.720239  16129.0  20711.00  21812.0   \n",
       "32.000000  193.0  22427.062176  3431.592232  16393.0  20175.00  21589.0   \n",
       "33.000000  185.0  22390.324324  3459.035533  17008.0  20324.00  22104.0   \n",
       "34.000000  204.0  22250.279412  3812.136664  17008.0  20106.50  21477.0   \n",
       "35.000000  227.0  22486.766520  3256.117384  16281.0  20687.50  22664.0   \n",
       "36.000000  230.0  23012.339130  5748.497956  17013.0  20674.00  22504.0   \n",
       "37.000000  181.0  23655.712707  6444.511405  17073.0  21249.00  23317.0   \n",
       "37.319986   71.0  18535.746479   106.077292  18348.0  18447.00  18505.0   \n",
       "38.000000  174.0  22759.413793  3912.550262   1000.0  20751.00  22598.0   \n",
       "38.065608   25.0  18522.920000   106.915824  18376.0  18448.00  18506.0   \n",
       "39.000000  150.0  24244.280000  4258.751257   4678.0  21362.00  24014.0   \n",
       "40.000000  139.0  25269.287770  5509.576738  17001.0  21202.50  24094.0   \n",
       "41.000000  154.0  25569.110390  5746.889669  17107.0  21170.75  23772.0   \n",
       "42.000000  137.0  25429.649635  6263.882601  17093.0  20805.00  23444.0   \n",
       "43.000000  130.0  25537.792308  5863.753997  17089.0  21254.00  23871.0   \n",
       "44.000000  105.0  24893.676190  6197.280159  17011.0  20743.00  23443.0   \n",
       "45.000000  109.0  24802.752294  5693.517646  17132.0  20770.00  23219.0   \n",
       "46.000000  121.0  26654.528926  5292.350440  19615.0  22379.00  24619.0   \n",
       "47.000000   88.0  27871.568182  6163.684573  17105.0  23439.25  27842.5   \n",
       "48.000000   63.0  26324.269841  5764.869901  17259.0  22469.50  23748.0   \n",
       "49.000000   64.0  26869.093750  5745.747628  17587.0  21765.75  25965.0   \n",
       "50.000000   86.0  28653.534884  5875.204114  17380.0  23873.00  29527.0   \n",
       "51.000000   90.0  28632.511111  6984.577071  17075.0  22368.00  28438.0   \n",
       "52.000000   66.0  27498.500000  6007.800089  17950.0  21879.25  27204.5   \n",
       "53.000000   64.0  28389.000000  5925.608500  17306.0  23381.00  28544.0   \n",
       "54.000000   60.0  28636.333333  5527.272999  17897.0  25502.00  28986.5   \n",
       "55.000000   64.0  29271.625000  5351.682885  17662.0  24618.00  29417.0   \n",
       "56.000000   56.0  29407.696429  6985.383074  17066.0  23556.75  29654.0   \n",
       "57.000000   29.0  26907.379310  5923.496750  19900.0  21755.00  24439.0   \n",
       "58.000000   31.0  24928.774194  5943.284534  17372.0  18346.00  25312.0   \n",
       "59.000000   44.0  25580.818182  6276.185041  17177.0  21050.00  24338.0   \n",
       "60.000000   29.0  26245.482759  5506.548638  20220.0  20945.00  25266.0   \n",
       "61.000000    9.0  28877.666667  5825.632605  23898.0  24083.00  28944.0   \n",
       "\n",
       "                75%      max  \n",
       "Age                           \n",
       "18.000000  16811.25  16904.0  \n",
       "19.000000  20121.50  20582.0  \n",
       "20.000000  20733.50  21672.0  \n",
       "21.000000  21356.00  21711.0  \n",
       "22.000000  21299.25  22125.0  \n",
       "23.000000  21531.00  23453.0  \n",
       "24.000000  20976.50  22667.0  \n",
       "25.000000  22275.00  23677.0  \n",
       "26.000000  22678.00  27317.0  \n",
       "27.000000  22937.75  27808.0  \n",
       "28.000000  22905.00  31486.0  \n",
       "29.000000  22704.00  31124.0  \n",
       "30.000000  23406.50  34802.0  \n",
       "31.000000  24217.50  31422.0  \n",
       "32.000000  24610.00  35100.0  \n",
       "33.000000  24074.00  32444.0  \n",
       "34.000000  24013.00  36122.0  \n",
       "35.000000  24608.50  35685.0  \n",
       "36.000000  24699.00  95000.0  \n",
       "37.000000  25330.00  98678.0  \n",
       "37.319986  18622.00  18708.0  \n",
       "38.000000  25012.00  32422.0  \n",
       "38.065608  18629.00  18702.0  \n",
       "39.000000  26512.75  34431.0  \n",
       "40.000000  28503.00  38109.0  \n",
       "41.000000  29533.00  38511.0  \n",
       "42.000000  29125.00  38651.0  \n",
       "43.000000  31064.00  38291.0  \n",
       "44.000000  28909.00  38418.0  \n",
       "45.000000  28496.00  38191.0  \n",
       "46.000000  31923.00  37880.0  \n",
       "47.000000  32451.75  38305.0  \n",
       "48.000000  31124.50  38336.0  \n",
       "49.000000  31976.00  38343.0  \n",
       "50.000000  33193.00  38180.0  \n",
       "51.000000  35988.75  38604.0  \n",
       "52.000000  32099.00  38525.0  \n",
       "53.000000  32839.50  38677.0  \n",
       "54.000000  33087.75  37772.0  \n",
       "55.000000  34045.00  38084.0  \n",
       "56.000000  35434.00  38537.0  \n",
       "57.000000  29781.00  38621.0  \n",
       "58.000000  28872.00  34701.0  \n",
       "59.000000  29050.00  38379.0  \n",
       "60.000000  30582.00  37522.0  \n",
       "61.000000  29561.00  38244.0  "
      ]
     },
     "execution_count": 38,
     "metadata": {},
     "output_type": "execute_result"
    }
   ],
   "source": [
    "df['MonthlyIncome'].groupby(by=df['Age']).describe()"
   ]
  },
  {
   "cell_type": "code",
   "execution_count": 39,
   "id": "86211495-5ae5-46cd-b9ef-22ab831d4849",
   "metadata": {},
   "outputs": [],
   "source": [
    "def missing_salary_tret(x):\n",
    "    if pd.isnull(x['MonthlyIncome']):\n",
    "        age = x['Age']\n",
    "        mean = round(df['MonthlyIncome'][df['Age']==float(age)].mean(skipna=True), 2) \n",
    "        return mean\n",
    "    return x['MonthlyIncome']\n",
    "#     for i in range(18,62):\n",
    "#         df['MontlyIncome'] = df[['MontlyIncome','Age']].apply(lambda x:age_salary_list[i-18] if x['Age']==i)\n"
   ]
  },
  {
   "cell_type": "code",
   "execution_count": 40,
   "id": "f51f71e2-27eb-49ea-b6a9-2e315f45d5fc",
   "metadata": {},
   "outputs": [],
   "source": [
    "df['MonthlyIncome'] = df[['MonthlyIncome','Age']].apply(missing_salary_tret, axis=1)"
   ]
  },
  {
   "cell_type": "code",
   "execution_count": 41,
   "id": "b3280a64-513f-479a-98df-fb661ab13ec3",
   "metadata": {},
   "outputs": [
    {
     "name": "stdout",
     "output_type": "stream",
     "text": [
      "<class 'pandas.core.frame.DataFrame'>\n",
      "RangeIndex: 4888 entries, 0 to 4887\n",
      "Data columns (total 20 columns):\n",
      " #   Column                    Non-Null Count  Dtype  \n",
      "---  ------                    --------------  -----  \n",
      " 0   CustomerID                4888 non-null   int64  \n",
      " 1   ProdTaken                 4888 non-null   int64  \n",
      " 2   Age                       4888 non-null   float64\n",
      " 3   TypeofContact             4863 non-null   object \n",
      " 4   CityTier                  4888 non-null   int64  \n",
      " 5   DurationOfPitch           4888 non-null   float64\n",
      " 6   Occupation                4888 non-null   object \n",
      " 7   Gender                    4888 non-null   object \n",
      " 8   NumberOfPersonVisiting    4888 non-null   int64  \n",
      " 9   NumberOfFollowups         4843 non-null   float64\n",
      " 10  ProductPitched            4888 non-null   object \n",
      " 11  PreferredPropertyStar     4888 non-null   float64\n",
      " 12  MaritalStatus             4888 non-null   object \n",
      " 13  NumberOfTrips             4748 non-null   float64\n",
      " 14  Passport                  4888 non-null   int64  \n",
      " 15  PitchSatisfactionScore    4888 non-null   int64  \n",
      " 16  OwnCar                    4888 non-null   int64  \n",
      " 17  NumberOfChildrenVisiting  4888 non-null   int64  \n",
      " 18  Designation               4888 non-null   object \n",
      " 19  MonthlyIncome             4888 non-null   float64\n",
      "dtypes: float64(6), int64(8), object(6)\n",
      "memory usage: 763.9+ KB\n"
     ]
    }
   ],
   "source": [
    "df.info()"
   ]
  },
  {
   "cell_type": "code",
   "execution_count": 42,
   "id": "be6a7bd5-2b1a-4133-ba59-b14246c0e41b",
   "metadata": {},
   "outputs": [
    {
     "data": {
      "text/plain": [
       "2469   NaN\n",
       "2473   NaN\n",
       "2506   NaN\n",
       "2549   NaN\n",
       "2550   NaN\n",
       "        ..\n",
       "4836   NaN\n",
       "4850   NaN\n",
       "4851   NaN\n",
       "4868   NaN\n",
       "4869   NaN\n",
       "Name: NumberOfTrips, Length: 140, dtype: float64"
      ]
     },
     "execution_count": 42,
     "metadata": {},
     "output_type": "execute_result"
    }
   ],
   "source": [
    "df['NumberOfTrips'][pd.isnull(df['NumberOfTrips'])==True]"
   ]
  },
  {
   "cell_type": "code",
   "execution_count": 43,
   "id": "9f930cc2-e9d5-469f-a793-e43f8834e4d5",
   "metadata": {},
   "outputs": [
    {
     "data": {
      "text/html": [
       "<div>\n",
       "<style scoped>\n",
       "    .dataframe tbody tr th:only-of-type {\n",
       "        vertical-align: middle;\n",
       "    }\n",
       "\n",
       "    .dataframe tbody tr th {\n",
       "        vertical-align: top;\n",
       "    }\n",
       "\n",
       "    .dataframe thead th {\n",
       "        text-align: right;\n",
       "    }\n",
       "</style>\n",
       "<table border=\"1\" class=\"dataframe\">\n",
       "  <thead>\n",
       "    <tr style=\"text-align: right;\">\n",
       "      <th></th>\n",
       "      <th>count</th>\n",
       "      <th>mean</th>\n",
       "      <th>std</th>\n",
       "      <th>min</th>\n",
       "      <th>25%</th>\n",
       "      <th>50%</th>\n",
       "      <th>75%</th>\n",
       "      <th>max</th>\n",
       "    </tr>\n",
       "    <tr>\n",
       "      <th>Occupation</th>\n",
       "      <th></th>\n",
       "      <th></th>\n",
       "      <th></th>\n",
       "      <th></th>\n",
       "      <th></th>\n",
       "      <th></th>\n",
       "      <th></th>\n",
       "      <th></th>\n",
       "    </tr>\n",
       "  </thead>\n",
       "  <tbody>\n",
       "    <tr>\n",
       "      <th>Free Lancer</th>\n",
       "      <td>2.0</td>\n",
       "      <td>7.500000</td>\n",
       "      <td>0.707107</td>\n",
       "      <td>7.0</td>\n",
       "      <td>7.25</td>\n",
       "      <td>7.5</td>\n",
       "      <td>7.75</td>\n",
       "      <td>8.0</td>\n",
       "    </tr>\n",
       "    <tr>\n",
       "      <th>Large Business</th>\n",
       "      <td>432.0</td>\n",
       "      <td>3.456019</td>\n",
       "      <td>2.151546</td>\n",
       "      <td>1.0</td>\n",
       "      <td>2.00</td>\n",
       "      <td>3.0</td>\n",
       "      <td>5.00</td>\n",
       "      <td>20.0</td>\n",
       "    </tr>\n",
       "    <tr>\n",
       "      <th>Salaried</th>\n",
       "      <td>2298.0</td>\n",
       "      <td>3.221062</td>\n",
       "      <td>1.800414</td>\n",
       "      <td>1.0</td>\n",
       "      <td>2.00</td>\n",
       "      <td>3.0</td>\n",
       "      <td>4.00</td>\n",
       "      <td>22.0</td>\n",
       "    </tr>\n",
       "    <tr>\n",
       "      <th>Small Business</th>\n",
       "      <td>2016.0</td>\n",
       "      <td>3.202877</td>\n",
       "      <td>1.827285</td>\n",
       "      <td>1.0</td>\n",
       "      <td>2.00</td>\n",
       "      <td>3.0</td>\n",
       "      <td>4.00</td>\n",
       "      <td>8.0</td>\n",
       "    </tr>\n",
       "  </tbody>\n",
       "</table>\n",
       "</div>"
      ],
      "text/plain": [
       "                 count      mean       std  min   25%  50%   75%   max\n",
       "Occupation                                                            \n",
       "Free Lancer        2.0  7.500000  0.707107  7.0  7.25  7.5  7.75   8.0\n",
       "Large Business   432.0  3.456019  2.151546  1.0  2.00  3.0  5.00  20.0\n",
       "Salaried        2298.0  3.221062  1.800414  1.0  2.00  3.0  4.00  22.0\n",
       "Small Business  2016.0  3.202877  1.827285  1.0  2.00  3.0  4.00   8.0"
      ]
     },
     "execution_count": 43,
     "metadata": {},
     "output_type": "execute_result"
    }
   ],
   "source": [
    "df['NumberOfTrips'].groupby(by=df['Occupation']).describe()"
   ]
  },
  {
   "cell_type": "code",
   "execution_count": 44,
   "id": "3e2b2dc7-7a1e-4bac-8d19-8d221dfa6743",
   "metadata": {},
   "outputs": [],
   "source": [
    "def missing_NoOfTrips_treatment(x):\n",
    "    if pd.isnull(x['NumberOfTrips']):\n",
    "        if x['Occupation']=='Salaried':\n",
    "            return 3.0\n",
    "        elif x['Occupation']=='Free Lancer':\n",
    "            return 8.0\n",
    "        elif x['Occupation']=='Small Business':\n",
    "            return 3.0\n",
    "        elif x['Occupation']=='Large Business':\n",
    "            return 3.0\n",
    "    return x['NumberOfTrips']"
   ]
  },
  {
   "cell_type": "code",
   "execution_count": 45,
   "id": "556b35db-cf21-4e46-950b-42319fa2cf81",
   "metadata": {},
   "outputs": [],
   "source": [
    "df['NumberOfTrips'] = df[['NumberOfTrips','Occupation']].apply(missing_NoOfTrips_treatment, axis=1)"
   ]
  },
  {
   "cell_type": "code",
   "execution_count": 46,
   "id": "207d9a65-bc4b-4733-8866-545468ae1d50",
   "metadata": {},
   "outputs": [
    {
     "name": "stdout",
     "output_type": "stream",
     "text": [
      "<class 'pandas.core.frame.DataFrame'>\n",
      "RangeIndex: 4888 entries, 0 to 4887\n",
      "Data columns (total 20 columns):\n",
      " #   Column                    Non-Null Count  Dtype  \n",
      "---  ------                    --------------  -----  \n",
      " 0   CustomerID                4888 non-null   int64  \n",
      " 1   ProdTaken                 4888 non-null   int64  \n",
      " 2   Age                       4888 non-null   float64\n",
      " 3   TypeofContact             4863 non-null   object \n",
      " 4   CityTier                  4888 non-null   int64  \n",
      " 5   DurationOfPitch           4888 non-null   float64\n",
      " 6   Occupation                4888 non-null   object \n",
      " 7   Gender                    4888 non-null   object \n",
      " 8   NumberOfPersonVisiting    4888 non-null   int64  \n",
      " 9   NumberOfFollowups         4843 non-null   float64\n",
      " 10  ProductPitched            4888 non-null   object \n",
      " 11  PreferredPropertyStar     4888 non-null   float64\n",
      " 12  MaritalStatus             4888 non-null   object \n",
      " 13  NumberOfTrips             4888 non-null   float64\n",
      " 14  Passport                  4888 non-null   int64  \n",
      " 15  PitchSatisfactionScore    4888 non-null   int64  \n",
      " 16  OwnCar                    4888 non-null   int64  \n",
      " 17  NumberOfChildrenVisiting  4888 non-null   int64  \n",
      " 18  Designation               4888 non-null   object \n",
      " 19  MonthlyIncome             4888 non-null   float64\n",
      "dtypes: float64(6), int64(8), object(6)\n",
      "memory usage: 763.9+ KB\n"
     ]
    }
   ],
   "source": [
    "df.info()"
   ]
  },
  {
   "cell_type": "code",
   "execution_count": 47,
   "id": "d6605dc6-4096-4ab0-a8e6-eb78f99ea634",
   "metadata": {},
   "outputs": [],
   "source": [
    "df.dropna(axis=0, inplace=True)"
   ]
  },
  {
   "cell_type": "code",
   "execution_count": 48,
   "id": "70a91105-8db1-4665-b79c-400da6cf37e3",
   "metadata": {
    "scrolled": true,
    "tags": []
   },
   "outputs": [
    {
     "name": "stdout",
     "output_type": "stream",
     "text": [
      "<class 'pandas.core.frame.DataFrame'>\n",
      "Int64Index: 4818 entries, 0 to 4887\n",
      "Data columns (total 20 columns):\n",
      " #   Column                    Non-Null Count  Dtype  \n",
      "---  ------                    --------------  -----  \n",
      " 0   CustomerID                4818 non-null   int64  \n",
      " 1   ProdTaken                 4818 non-null   int64  \n",
      " 2   Age                       4818 non-null   float64\n",
      " 3   TypeofContact             4818 non-null   object \n",
      " 4   CityTier                  4818 non-null   int64  \n",
      " 5   DurationOfPitch           4818 non-null   float64\n",
      " 6   Occupation                4818 non-null   object \n",
      " 7   Gender                    4818 non-null   object \n",
      " 8   NumberOfPersonVisiting    4818 non-null   int64  \n",
      " 9   NumberOfFollowups         4818 non-null   float64\n",
      " 10  ProductPitched            4818 non-null   object \n",
      " 11  PreferredPropertyStar     4818 non-null   float64\n",
      " 12  MaritalStatus             4818 non-null   object \n",
      " 13  NumberOfTrips             4818 non-null   float64\n",
      " 14  Passport                  4818 non-null   int64  \n",
      " 15  PitchSatisfactionScore    4818 non-null   int64  \n",
      " 16  OwnCar                    4818 non-null   int64  \n",
      " 17  NumberOfChildrenVisiting  4818 non-null   int64  \n",
      " 18  Designation               4818 non-null   object \n",
      " 19  MonthlyIncome             4818 non-null   float64\n",
      "dtypes: float64(6), int64(8), object(6)\n",
      "memory usage: 790.5+ KB\n"
     ]
    }
   ],
   "source": [
    "df.info()"
   ]
  },
  {
   "cell_type": "code",
   "execution_count": 49,
   "id": "3bb69fbd-9dd5-4814-b6d8-b99a2e2b7d27",
   "metadata": {},
   "outputs": [],
   "source": [
    "df = pd.concat([df, pd.get_dummies(df['Gender'], drop_first=True)], axis=1)"
   ]
  },
  {
   "cell_type": "code",
   "execution_count": 50,
   "id": "0c8e5dd4-297a-44d6-924e-d93754045cf0",
   "metadata": {},
   "outputs": [],
   "source": [
    "del df['Gender']"
   ]
  },
  {
   "cell_type": "code",
   "execution_count": 51,
   "id": "9060711b-2c42-459a-8478-573b1ee58b40",
   "metadata": {
    "scrolled": true,
    "tags": []
   },
   "outputs": [
    {
     "data": {
      "text/html": [
       "<div>\n",
       "<style scoped>\n",
       "    .dataframe tbody tr th:only-of-type {\n",
       "        vertical-align: middle;\n",
       "    }\n",
       "\n",
       "    .dataframe tbody tr th {\n",
       "        vertical-align: top;\n",
       "    }\n",
       "\n",
       "    .dataframe thead th {\n",
       "        text-align: right;\n",
       "    }\n",
       "</style>\n",
       "<table border=\"1\" class=\"dataframe\">\n",
       "  <thead>\n",
       "    <tr style=\"text-align: right;\">\n",
       "      <th></th>\n",
       "      <th>Divorced</th>\n",
       "      <th>Married</th>\n",
       "      <th>Single</th>\n",
       "      <th>Unmarried</th>\n",
       "    </tr>\n",
       "  </thead>\n",
       "  <tbody>\n",
       "    <tr>\n",
       "      <th>0</th>\n",
       "      <td>0</td>\n",
       "      <td>0</td>\n",
       "      <td>1</td>\n",
       "      <td>0</td>\n",
       "    </tr>\n",
       "    <tr>\n",
       "      <th>1</th>\n",
       "      <td>1</td>\n",
       "      <td>0</td>\n",
       "      <td>0</td>\n",
       "      <td>0</td>\n",
       "    </tr>\n",
       "    <tr>\n",
       "      <th>2</th>\n",
       "      <td>0</td>\n",
       "      <td>0</td>\n",
       "      <td>1</td>\n",
       "      <td>0</td>\n",
       "    </tr>\n",
       "    <tr>\n",
       "      <th>3</th>\n",
       "      <td>1</td>\n",
       "      <td>0</td>\n",
       "      <td>0</td>\n",
       "      <td>0</td>\n",
       "    </tr>\n",
       "    <tr>\n",
       "      <th>4</th>\n",
       "      <td>1</td>\n",
       "      <td>0</td>\n",
       "      <td>0</td>\n",
       "      <td>0</td>\n",
       "    </tr>\n",
       "  </tbody>\n",
       "</table>\n",
       "</div>"
      ],
      "text/plain": [
       "   Divorced  Married  Single  Unmarried\n",
       "0         0        0       1          0\n",
       "1         1        0       0          0\n",
       "2         0        0       1          0\n",
       "3         1        0       0          0\n",
       "4         1        0       0          0"
      ]
     },
     "execution_count": 51,
     "metadata": {},
     "output_type": "execute_result"
    }
   ],
   "source": [
    "pd.get_dummies(df['MaritalStatus']).head()"
   ]
  },
  {
   "cell_type": "raw",
   "id": "baab7ead-1eed-4eea-b8af-723ec10771cd",
   "metadata": {},
   "source": [
    "divorced -- 1\n",
    "Married -- 2\n",
    "Single -- 3\n",
    "Unmarried -- 4"
   ]
  },
  {
   "cell_type": "code",
   "execution_count": 52,
   "id": "904be6f0-3920-4640-aba6-6287d0530447",
   "metadata": {},
   "outputs": [],
   "source": [
    "def marital_status_dummy_maker(x):\n",
    "    if not pd.isnull(x['MarriageStatus']):\n",
    "        if x['MaritalStatus']=='Divorced':\n",
    "            return 1\n",
    "        elif x['MaritalStatus']=='Married':\n",
    "            return 2\n",
    "        elif x['MaritalStatus']=='Single':\n",
    "            return 3\n",
    "        elif x['MaritalStatus']=='Unmarried':\n",
    "            return 4\n",
    "    return x['MarriageStatus']"
   ]
  },
  {
   "cell_type": "code",
   "execution_count": 53,
   "id": "f41bf0ad-e1ea-4b04-a0a9-5a4bb2cd0128",
   "metadata": {},
   "outputs": [],
   "source": [
    "list_maker = [i for i in range(0,4818)]\n",
    "# pd.concat(df, df['MarriageStatus']=list_maker, axis=1)"
   ]
  },
  {
   "cell_type": "code",
   "execution_count": 54,
   "id": "c28c329c-2ac2-4d2c-b84c-61fe31433512",
   "metadata": {},
   "outputs": [],
   "source": [
    "df['MarriageStatus'] = list_maker"
   ]
  },
  {
   "cell_type": "code",
   "execution_count": 55,
   "id": "46994d72-39f3-4504-a7ef-7ae276bcfd94",
   "metadata": {},
   "outputs": [],
   "source": [
    "df['MarriageStatus'] = df[['MarriageStatus', 'MaritalStatus']].apply(marital_status_dummy_maker, axis=1)"
   ]
  },
  {
   "cell_type": "code",
   "execution_count": 56,
   "id": "2a356e2f-036a-4f1c-a38f-e732d00cce3c",
   "metadata": {},
   "outputs": [],
   "source": [
    "del df['MaritalStatus']"
   ]
  },
  {
   "cell_type": "code",
   "execution_count": 57,
   "id": "562fd7a9-2931-4ac4-baac-758167df2c4c",
   "metadata": {},
   "outputs": [
    {
     "name": "stdout",
     "output_type": "stream",
     "text": [
      "<class 'pandas.core.frame.DataFrame'>\n",
      "Int64Index: 4818 entries, 0 to 4887\n",
      "Data columns (total 20 columns):\n",
      " #   Column                    Non-Null Count  Dtype  \n",
      "---  ------                    --------------  -----  \n",
      " 0   CustomerID                4818 non-null   int64  \n",
      " 1   ProdTaken                 4818 non-null   int64  \n",
      " 2   Age                       4818 non-null   float64\n",
      " 3   TypeofContact             4818 non-null   object \n",
      " 4   CityTier                  4818 non-null   int64  \n",
      " 5   DurationOfPitch           4818 non-null   float64\n",
      " 6   Occupation                4818 non-null   object \n",
      " 7   NumberOfPersonVisiting    4818 non-null   int64  \n",
      " 8   NumberOfFollowups         4818 non-null   float64\n",
      " 9   ProductPitched            4818 non-null   object \n",
      " 10  PreferredPropertyStar     4818 non-null   float64\n",
      " 11  NumberOfTrips             4818 non-null   float64\n",
      " 12  Passport                  4818 non-null   int64  \n",
      " 13  PitchSatisfactionScore    4818 non-null   int64  \n",
      " 14  OwnCar                    4818 non-null   int64  \n",
      " 15  NumberOfChildrenVisiting  4818 non-null   int64  \n",
      " 16  Designation               4818 non-null   object \n",
      " 17  MonthlyIncome             4818 non-null   float64\n",
      " 18  Male                      4818 non-null   uint8  \n",
      " 19  MarriageStatus            4818 non-null   int64  \n",
      "dtypes: float64(6), int64(9), object(4), uint8(1)\n",
      "memory usage: 757.5+ KB\n"
     ]
    }
   ],
   "source": [
    "df.info()"
   ]
  },
  {
   "cell_type": "code",
   "execution_count": 58,
   "id": "a4fe9b8c-0ed3-45d7-9f43-837b8ed6c105",
   "metadata": {},
   "outputs": [
    {
     "data": {
      "text/html": [
       "<div>\n",
       "<style scoped>\n",
       "    .dataframe tbody tr th:only-of-type {\n",
       "        vertical-align: middle;\n",
       "    }\n",
       "\n",
       "    .dataframe tbody tr th {\n",
       "        vertical-align: top;\n",
       "    }\n",
       "\n",
       "    .dataframe thead th {\n",
       "        text-align: right;\n",
       "    }\n",
       "</style>\n",
       "<table border=\"1\" class=\"dataframe\">\n",
       "  <thead>\n",
       "    <tr style=\"text-align: right;\">\n",
       "      <th></th>\n",
       "      <th>count</th>\n",
       "      <th>mean</th>\n",
       "      <th>std</th>\n",
       "      <th>min</th>\n",
       "      <th>25%</th>\n",
       "      <th>50%</th>\n",
       "      <th>75%</th>\n",
       "      <th>max</th>\n",
       "    </tr>\n",
       "    <tr>\n",
       "      <th>ProductPitched</th>\n",
       "      <th></th>\n",
       "      <th></th>\n",
       "      <th></th>\n",
       "      <th></th>\n",
       "      <th></th>\n",
       "      <th></th>\n",
       "      <th></th>\n",
       "      <th></th>\n",
       "    </tr>\n",
       "  </thead>\n",
       "  <tbody>\n",
       "    <tr>\n",
       "      <th>Basic</th>\n",
       "      <td>1819.0</td>\n",
       "      <td>0.299615</td>\n",
       "      <td>0.458215</td>\n",
       "      <td>0.0</td>\n",
       "      <td>0.0</td>\n",
       "      <td>0.0</td>\n",
       "      <td>1.0</td>\n",
       "      <td>1.0</td>\n",
       "    </tr>\n",
       "    <tr>\n",
       "      <th>Deluxe</th>\n",
       "      <td>1685.0</td>\n",
       "      <td>0.118694</td>\n",
       "      <td>0.323525</td>\n",
       "      <td>0.0</td>\n",
       "      <td>0.0</td>\n",
       "      <td>0.0</td>\n",
       "      <td>0.0</td>\n",
       "      <td>1.0</td>\n",
       "    </tr>\n",
       "    <tr>\n",
       "      <th>King</th>\n",
       "      <td>230.0</td>\n",
       "      <td>0.086957</td>\n",
       "      <td>0.282386</td>\n",
       "      <td>0.0</td>\n",
       "      <td>0.0</td>\n",
       "      <td>0.0</td>\n",
       "      <td>0.0</td>\n",
       "      <td>1.0</td>\n",
       "    </tr>\n",
       "    <tr>\n",
       "      <th>Standard</th>\n",
       "      <td>742.0</td>\n",
       "      <td>0.167116</td>\n",
       "      <td>0.373331</td>\n",
       "      <td>0.0</td>\n",
       "      <td>0.0</td>\n",
       "      <td>0.0</td>\n",
       "      <td>0.0</td>\n",
       "      <td>1.0</td>\n",
       "    </tr>\n",
       "    <tr>\n",
       "      <th>Super Deluxe</th>\n",
       "      <td>342.0</td>\n",
       "      <td>0.058480</td>\n",
       "      <td>0.234992</td>\n",
       "      <td>0.0</td>\n",
       "      <td>0.0</td>\n",
       "      <td>0.0</td>\n",
       "      <td>0.0</td>\n",
       "      <td>1.0</td>\n",
       "    </tr>\n",
       "  </tbody>\n",
       "</table>\n",
       "</div>"
      ],
      "text/plain": [
       "                 count      mean       std  min  25%  50%  75%  max\n",
       "ProductPitched                                                     \n",
       "Basic           1819.0  0.299615  0.458215  0.0  0.0  0.0  1.0  1.0\n",
       "Deluxe          1685.0  0.118694  0.323525  0.0  0.0  0.0  0.0  1.0\n",
       "King             230.0  0.086957  0.282386  0.0  0.0  0.0  0.0  1.0\n",
       "Standard         742.0  0.167116  0.373331  0.0  0.0  0.0  0.0  1.0\n",
       "Super Deluxe     342.0  0.058480  0.234992  0.0  0.0  0.0  0.0  1.0"
      ]
     },
     "execution_count": 58,
     "metadata": {},
     "output_type": "execute_result"
    }
   ],
   "source": [
    "df['ProdTaken'].groupby(df['ProductPitched']).describe()"
   ]
  },
  {
   "cell_type": "code",
   "execution_count": 59,
   "id": "8fbd327e-43d9-4e64-b21c-89f06bd890bc",
   "metadata": {},
   "outputs": [
    {
     "name": "stdout",
     "output_type": "stream",
     "text": [
      "<class 'pandas.core.frame.DataFrame'>\n",
      "Int64Index: 4818 entries, 0 to 4887\n",
      "Data columns (total 20 columns):\n",
      " #   Column                    Non-Null Count  Dtype  \n",
      "---  ------                    --------------  -----  \n",
      " 0   CustomerID                4818 non-null   int64  \n",
      " 1   ProdTaken                 4818 non-null   int64  \n",
      " 2   Age                       4818 non-null   float64\n",
      " 3   TypeofContact             4818 non-null   object \n",
      " 4   CityTier                  4818 non-null   int64  \n",
      " 5   DurationOfPitch           4818 non-null   float64\n",
      " 6   Occupation                4818 non-null   object \n",
      " 7   NumberOfPersonVisiting    4818 non-null   int64  \n",
      " 8   NumberOfFollowups         4818 non-null   float64\n",
      " 9   ProductPitched            4818 non-null   object \n",
      " 10  PreferredPropertyStar     4818 non-null   float64\n",
      " 11  NumberOfTrips             4818 non-null   float64\n",
      " 12  Passport                  4818 non-null   int64  \n",
      " 13  PitchSatisfactionScore    4818 non-null   int64  \n",
      " 14  OwnCar                    4818 non-null   int64  \n",
      " 15  NumberOfChildrenVisiting  4818 non-null   int64  \n",
      " 16  Designation               4818 non-null   object \n",
      " 17  MonthlyIncome             4818 non-null   float64\n",
      " 18  Male                      4818 non-null   uint8  \n",
      " 19  MarriageStatus            4818 non-null   int64  \n",
      "dtypes: float64(6), int64(9), object(4), uint8(1)\n",
      "memory usage: 886.6+ KB\n"
     ]
    }
   ],
   "source": [
    "df.info()"
   ]
  },
  {
   "cell_type": "code",
   "execution_count": 60,
   "id": "82ecd395-2e4a-4dc4-b621-ce0bde8fb71f",
   "metadata": {},
   "outputs": [],
   "source": [
    "#Occupation Dummies Making"
   ]
  },
  {
   "cell_type": "code",
   "execution_count": 61,
   "id": "186ad0d6-1c2b-4e15-849f-fe54e45d76e4",
   "metadata": {},
   "outputs": [],
   "source": [
    "df = pd.concat([df,pd.get_dummies(df['Occupation'])], axis=1)"
   ]
  },
  {
   "cell_type": "code",
   "execution_count": 62,
   "id": "b7e7ae2b-b3b3-4c17-963d-099aa9b38e10",
   "metadata": {},
   "outputs": [],
   "source": [
    "#making dummies for Designation"
   ]
  },
  {
   "cell_type": "code",
   "execution_count": 63,
   "id": "1e413ca5-bd48-477d-b01e-38a5fbe0029b",
   "metadata": {},
   "outputs": [],
   "source": [
    "df = pd.concat([df,pd.get_dummies(df['Designation'])], axis=1)"
   ]
  },
  {
   "cell_type": "code",
   "execution_count": 64,
   "id": "df6741d3-cef0-45f9-b5da-513a73a56c4d",
   "metadata": {},
   "outputs": [
    {
     "name": "stdout",
     "output_type": "stream",
     "text": [
      "<class 'pandas.core.frame.DataFrame'>\n",
      "Int64Index: 4818 entries, 0 to 4887\n",
      "Data columns (total 29 columns):\n",
      " #   Column                    Non-Null Count  Dtype  \n",
      "---  ------                    --------------  -----  \n",
      " 0   CustomerID                4818 non-null   int64  \n",
      " 1   ProdTaken                 4818 non-null   int64  \n",
      " 2   Age                       4818 non-null   float64\n",
      " 3   TypeofContact             4818 non-null   object \n",
      " 4   CityTier                  4818 non-null   int64  \n",
      " 5   DurationOfPitch           4818 non-null   float64\n",
      " 6   Occupation                4818 non-null   object \n",
      " 7   NumberOfPersonVisiting    4818 non-null   int64  \n",
      " 8   NumberOfFollowups         4818 non-null   float64\n",
      " 9   ProductPitched            4818 non-null   object \n",
      " 10  PreferredPropertyStar     4818 non-null   float64\n",
      " 11  NumberOfTrips             4818 non-null   float64\n",
      " 12  Passport                  4818 non-null   int64  \n",
      " 13  PitchSatisfactionScore    4818 non-null   int64  \n",
      " 14  OwnCar                    4818 non-null   int64  \n",
      " 15  NumberOfChildrenVisiting  4818 non-null   int64  \n",
      " 16  Designation               4818 non-null   object \n",
      " 17  MonthlyIncome             4818 non-null   float64\n",
      " 18  Male                      4818 non-null   uint8  \n",
      " 19  MarriageStatus            4818 non-null   int64  \n",
      " 20  Free Lancer               4818 non-null   uint8  \n",
      " 21  Large Business            4818 non-null   uint8  \n",
      " 22  Salaried                  4818 non-null   uint8  \n",
      " 23  Small Business            4818 non-null   uint8  \n",
      " 24  AVP                       4818 non-null   uint8  \n",
      " 25  Executive                 4818 non-null   uint8  \n",
      " 26  Manager                   4818 non-null   uint8  \n",
      " 27  Senior Manager            4818 non-null   uint8  \n",
      " 28  VP                        4818 non-null   uint8  \n",
      "dtypes: float64(6), int64(9), object(4), uint8(10)\n",
      "memory usage: 928.9+ KB\n"
     ]
    }
   ],
   "source": [
    "df.info()"
   ]
  },
  {
   "cell_type": "code",
   "execution_count": 65,
   "id": "3ef99b7a-6dcf-411a-a6ad-1a607bb7e10b",
   "metadata": {},
   "outputs": [],
   "source": [
    "del df['Designation']"
   ]
  },
  {
   "cell_type": "code",
   "execution_count": 66,
   "id": "18c59340-d071-4b4c-a132-264619fa76ed",
   "metadata": {},
   "outputs": [],
   "source": [
    "del df['Occupation']"
   ]
  },
  {
   "cell_type": "code",
   "execution_count": 67,
   "id": "a4ab03e3-e116-46b8-9544-7f2c3833fcda",
   "metadata": {},
   "outputs": [
    {
     "name": "stdout",
     "output_type": "stream",
     "text": [
      "<class 'pandas.core.frame.DataFrame'>\n",
      "Int64Index: 4818 entries, 0 to 4887\n",
      "Data columns (total 27 columns):\n",
      " #   Column                    Non-Null Count  Dtype  \n",
      "---  ------                    --------------  -----  \n",
      " 0   CustomerID                4818 non-null   int64  \n",
      " 1   ProdTaken                 4818 non-null   int64  \n",
      " 2   Age                       4818 non-null   float64\n",
      " 3   TypeofContact             4818 non-null   object \n",
      " 4   CityTier                  4818 non-null   int64  \n",
      " 5   DurationOfPitch           4818 non-null   float64\n",
      " 6   NumberOfPersonVisiting    4818 non-null   int64  \n",
      " 7   NumberOfFollowups         4818 non-null   float64\n",
      " 8   ProductPitched            4818 non-null   object \n",
      " 9   PreferredPropertyStar     4818 non-null   float64\n",
      " 10  NumberOfTrips             4818 non-null   float64\n",
      " 11  Passport                  4818 non-null   int64  \n",
      " 12  PitchSatisfactionScore    4818 non-null   int64  \n",
      " 13  OwnCar                    4818 non-null   int64  \n",
      " 14  NumberOfChildrenVisiting  4818 non-null   int64  \n",
      " 15  MonthlyIncome             4818 non-null   float64\n",
      " 16  Male                      4818 non-null   uint8  \n",
      " 17  MarriageStatus            4818 non-null   int64  \n",
      " 18  Free Lancer               4818 non-null   uint8  \n",
      " 19  Large Business            4818 non-null   uint8  \n",
      " 20  Salaried                  4818 non-null   uint8  \n",
      " 21  Small Business            4818 non-null   uint8  \n",
      " 22  AVP                       4818 non-null   uint8  \n",
      " 23  Executive                 4818 non-null   uint8  \n",
      " 24  Manager                   4818 non-null   uint8  \n",
      " 25  Senior Manager            4818 non-null   uint8  \n",
      " 26  VP                        4818 non-null   uint8  \n",
      "dtypes: float64(6), int64(9), object(2), uint8(10)\n",
      "memory usage: 853.6+ KB\n"
     ]
    }
   ],
   "source": [
    "df.info()"
   ]
  },
  {
   "cell_type": "code",
   "execution_count": 68,
   "id": "1e08b5d1-976e-41bb-b8a3-ef5270065a94",
   "metadata": {},
   "outputs": [],
   "source": [
    "df = pd.concat([df,pd.get_dummies(df['TypeofContact'])], axis=1)"
   ]
  },
  {
   "cell_type": "code",
   "execution_count": 69,
   "id": "883223e8-591c-4730-94e5-2587388b5c5c",
   "metadata": {},
   "outputs": [],
   "source": [
    "del df['Company Invited']"
   ]
  },
  {
   "cell_type": "code",
   "execution_count": 70,
   "id": "3984b5ed-5cda-49df-986c-16072f95d3db",
   "metadata": {},
   "outputs": [
    {
     "name": "stdout",
     "output_type": "stream",
     "text": [
      "<class 'pandas.core.frame.DataFrame'>\n",
      "Int64Index: 4818 entries, 0 to 4887\n",
      "Data columns (total 27 columns):\n",
      " #   Column                    Non-Null Count  Dtype  \n",
      "---  ------                    --------------  -----  \n",
      " 0   CustomerID                4818 non-null   int64  \n",
      " 1   ProdTaken                 4818 non-null   int64  \n",
      " 2   Age                       4818 non-null   float64\n",
      " 3   CityTier                  4818 non-null   int64  \n",
      " 4   DurationOfPitch           4818 non-null   float64\n",
      " 5   NumberOfPersonVisiting    4818 non-null   int64  \n",
      " 6   NumberOfFollowups         4818 non-null   float64\n",
      " 7   ProductPitched            4818 non-null   object \n",
      " 8   PreferredPropertyStar     4818 non-null   float64\n",
      " 9   NumberOfTrips             4818 non-null   float64\n",
      " 10  Passport                  4818 non-null   int64  \n",
      " 11  PitchSatisfactionScore    4818 non-null   int64  \n",
      " 12  OwnCar                    4818 non-null   int64  \n",
      " 13  NumberOfChildrenVisiting  4818 non-null   int64  \n",
      " 14  MonthlyIncome             4818 non-null   float64\n",
      " 15  Male                      4818 non-null   uint8  \n",
      " 16  MarriageStatus            4818 non-null   int64  \n",
      " 17  Free Lancer               4818 non-null   uint8  \n",
      " 18  Large Business            4818 non-null   uint8  \n",
      " 19  Salaried                  4818 non-null   uint8  \n",
      " 20  Small Business            4818 non-null   uint8  \n",
      " 21  AVP                       4818 non-null   uint8  \n",
      " 22  Executive                 4818 non-null   uint8  \n",
      " 23  Manager                   4818 non-null   uint8  \n",
      " 24  Senior Manager            4818 non-null   uint8  \n",
      " 25  VP                        4818 non-null   uint8  \n",
      " 26  Self Enquiry              4818 non-null   uint8  \n",
      "dtypes: float64(6), int64(9), object(1), uint8(11)\n",
      "memory usage: 820.7+ KB\n"
     ]
    }
   ],
   "source": [
    "del df['TypeofContact']\n",
    "df.info()"
   ]
  },
  {
   "cell_type": "code",
   "execution_count": 71,
   "id": "f90f87ac-47d0-45b7-af67-681b3bd83b61",
   "metadata": {},
   "outputs": [
    {
     "name": "stdout",
     "output_type": "stream",
     "text": [
      "<class 'pandas.core.frame.DataFrame'>\n",
      "Int64Index: 4818 entries, 0 to 4887\n",
      "Data columns (total 27 columns):\n",
      " #   Column                    Non-Null Count  Dtype  \n",
      "---  ------                    --------------  -----  \n",
      " 0   CustomerID                4818 non-null   int64  \n",
      " 1   ProdTaken                 4818 non-null   int64  \n",
      " 2   Age                       4818 non-null   float64\n",
      " 3   CityTier                  4818 non-null   int64  \n",
      " 4   DurationOfPitch           4818 non-null   float64\n",
      " 5   NumberOfPersonVisiting    4818 non-null   int64  \n",
      " 6   NumberOfFollowups         4818 non-null   float64\n",
      " 7   ProductPitched            4818 non-null   object \n",
      " 8   PreferredPropertyStar     4818 non-null   float64\n",
      " 9   NumberOfTrips             4818 non-null   float64\n",
      " 10  Passport                  4818 non-null   int64  \n",
      " 11  PitchSatisfactionScore    4818 non-null   int64  \n",
      " 12  OwnCar                    4818 non-null   int64  \n",
      " 13  NumberOfChildrenVisiting  4818 non-null   int64  \n",
      " 14  MonthlyIncome             4818 non-null   float64\n",
      " 15  Male                      4818 non-null   uint8  \n",
      " 16  MarriageStatus            4818 non-null   int64  \n",
      " 17  Free Lancer               4818 non-null   uint8  \n",
      " 18  Large Business            4818 non-null   uint8  \n",
      " 19  Salaried                  4818 non-null   uint8  \n",
      " 20  Small Business            4818 non-null   uint8  \n",
      " 21  AVP                       4818 non-null   uint8  \n",
      " 22  Executive                 4818 non-null   uint8  \n",
      " 23  Manager                   4818 non-null   uint8  \n",
      " 24  Senior Manager            4818 non-null   uint8  \n",
      " 25  VP                        4818 non-null   uint8  \n",
      " 26  Self Enquiry              4818 non-null   uint8  \n",
      "dtypes: float64(6), int64(9), object(1), uint8(11)\n",
      "memory usage: 820.7+ KB\n"
     ]
    },
    {
     "data": {
      "text/plain": [
       "Basic           1819\n",
       "Deluxe          1685\n",
       "Standard         742\n",
       "Super Deluxe     342\n",
       "King             230\n",
       "Name: ProductPitched, dtype: int64"
      ]
     },
     "execution_count": 71,
     "metadata": {},
     "output_type": "execute_result"
    }
   ],
   "source": [
    "df.info()\n",
    "df['ProductPitched'].value_counts()"
   ]
  },
  {
   "cell_type": "code",
   "execution_count": 72,
   "id": "70a1230c-8fe1-4468-bce0-6af72d904350",
   "metadata": {},
   "outputs": [],
   "source": [
    "df = pd.concat([df,pd.get_dummies(df['ProductPitched'])], axis=1)\n",
    "del df['ProductPitched']"
   ]
  },
  {
   "cell_type": "code",
   "execution_count": 73,
   "id": "cf2525bf-5d1c-4c4a-adcd-6d966fa72e94",
   "metadata": {},
   "outputs": [
    {
     "data": {
      "text/plain": [
       "Index(['CustomerID', 'ProdTaken', 'Age', 'CityTier', 'DurationOfPitch',\n",
       "       'NumberOfPersonVisiting', 'NumberOfFollowups', 'PreferredPropertyStar',\n",
       "       'NumberOfTrips', 'Passport', 'PitchSatisfactionScore', 'OwnCar',\n",
       "       'NumberOfChildrenVisiting', 'MonthlyIncome', 'Male', 'MarriageStatus',\n",
       "       'Free Lancer', 'Large Business', 'Salaried', 'Small Business', 'AVP',\n",
       "       'Executive', 'Manager', 'Senior Manager', 'VP', 'Self Enquiry', 'Basic',\n",
       "       'Deluxe', 'King', 'Standard', 'Super Deluxe'],\n",
       "      dtype='object')"
      ]
     },
     "execution_count": 73,
     "metadata": {},
     "output_type": "execute_result"
    }
   ],
   "source": [
    "df.columns"
   ]
  },
  {
   "cell_type": "code",
   "execution_count": 74,
   "id": "5ee42e20-25ea-4d62-8b85-8a6f2de8fdb5",
   "metadata": {},
   "outputs": [],
   "source": [
    "df_customerid = df['CustomerID']"
   ]
  },
  {
   "cell_type": "code",
   "execution_count": 75,
   "id": "e22d4064-2bfe-4f37-9f71-190d808be131",
   "metadata": {},
   "outputs": [],
   "source": [
    "#we have removed the customer and is not affecting the accuracy \n",
    "del df['CustomerID']"
   ]
  },
  {
   "cell_type": "markdown",
   "id": "08b0eabf-58d0-4c99-aa11-49cc7d430f9c",
   "metadata": {},
   "source": [
    "#### <b>Removing the outliers"
   ]
  },
  {
   "cell_type": "code",
   "execution_count": 76,
   "id": "7d56466b-6635-4c49-8291-3024bdcb134a",
   "metadata": {},
   "outputs": [
    {
     "data": {
      "image/png": "[encoded data removed]",
      "text/plain": [
       "<Figure size 432x288 with 1 Axes>"
      ]
     },
     "metadata": {
      "needs_background": "light"
     },
     "output_type": "display_data"
    },
    {
     "data": {
      "image/png": "[encoded data removed]",
      "text/plain": [
       "<Figure size 432x288 with 1 Axes>"
      ]
     },
     "metadata": {
      "needs_background": "light"
     },
     "output_type": "display_data"
    },
    {
     "data": {
      "image/png": "[encoded data removed]",
      "text/plain": [
       "<Figure size 432x288 with 1 Axes>"
      ]
     },
     "metadata": {
      "needs_background": "light"
     },
     "output_type": "display_data"
    },
    {
     "data": {
      "image/png": "[encoded data removed]",
      "text/plain": [
       "<Figure size 432x288 with 1 Axes>"
      ]
     },
     "metadata": {
      "needs_background": "light"
     },
     "output_type": "display_data"
    },
    {
     "data": {
      "image/png": "[encoded data removed]",
      "text/plain": [
       "<Figure size 432x288 with 1 Axes>"
      ]
     },
     "metadata": {
      "needs_background": "light"
     },
     "output_type": "display_data"
    },
    {
     "data": {
      "image/png": "[encoded data removed]",
      "text/plain": [
       "<Figure size 432x288 with 1 Axes>"
      ]
     },
     "metadata": {
      "needs_background": "light"
     },
     "output_type": "display_data"
    },
    {
     "data": {
      "image/png": "[encoded data removed]",
      "text/plain": [
       "<Figure size 432x288 with 1 Axes>"
      ]
     },
     "metadata": {
      "needs_background": "light"
     },
     "output_type": "display_data"
    },
    {
     "data": {
      "image/png": "[encoded data removed]",
      "text/plain": [
       "<Figure size 432x288 with 1 Axes>"
      ]
     },
     "metadata": {
      "needs_background": "light"
     },
     "output_type": "display_data"
    },
    {
     "data": {
      "image/png": "[encoded data removed]",
      "text/plain": [
       "<Figure size 432x288 with 1 Axes>"
      ]
     },
     "metadata": {
      "needs_background": "light"
     },
     "output_type": "display_data"
    },
    {
     "data": {
      "image/png": "[encoded data removed]",
      "text/plain": [
       "<Figure size 432x288 with 1 Axes>"
      ]
     },
     "metadata": {
      "needs_background": "light"
     },
     "output_type": "display_data"
    },
    {
     "data": {
      "image/png": "[encoded data removed]",
      "text/plain": [
       "<Figure size 432x288 with 1 Axes>"
      ]
     },
     "metadata": {
      "needs_background": "light"
     },
     "output_type": "display_data"
    },
    {
     "data": {
      "image/png": "[encoded data removed]",
      "text/plain": [
       "<Figure size 432x288 with 1 Axes>"
      ]
     },
     "metadata": {
      "needs_background": "light"
     },
     "output_type": "display_data"
    },
    {
     "data": {
      "image/png": "[encoded data removed]",
      "text/plain": [
       "<Figure size 432x288 with 1 Axes>"
      ]
     },
     "metadata": {
      "needs_background": "light"
     },
     "output_type": "display_data"
    },
    {
     "data": {
      "image/png": "[encoded data removed]",
      "text/plain": [
       "<Figure size 432x288 with 1 Axes>"
      ]
     },
     "metadata": {
      "needs_background": "light"
     },
     "output_type": "display_data"
    },
    {
     "data": {
      "image/png": "[encoded data removed]",
      "text/plain": [
       "<Figure size 432x288 with 1 Axes>"
      ]
     },
     "metadata": {
      "needs_background": "light"
     },
     "output_type": "display_data"
    },
    {
     "data": {
      "image/png": "[encoded data removed]",
      "text/plain": [
       "<Figure size 432x288 with 1 Axes>"
      ]
     },
     "metadata": {
      "needs_background": "light"
     },
     "output_type": "display_data"
    },
    {
     "data": {
      "image/png": "[encoded data removed]",
      "text/plain": [
       "<Figure size 432x288 with 1 Axes>"
      ]
     },
     "metadata": {
      "needs_background": "light"
     },
     "output_type": "display_data"
    },
    {
     "data": {
      "image/png": "[encoded data removed]",
      "text/plain": [
       "<Figure size 432x288 with 1 Axes>"
      ]
     },
     "metadata": {
      "needs_background": "light"
     },
     "output_type": "display_data"
    },
    {
     "data": {
      "image/png": "[encoded data removed]",
      "text/plain": [
       "<Figure size 432x288 with 1 Axes>"
      ]
     },
     "metadata": {
      "needs_background": "light"
     },
     "output_type": "display_data"
    },
    {
     "data": {
      "image/png": "[encoded data removed]",
      "text/plain": [
       "<Figure size 432x288 with 1 Axes>"
      ]
     },
     "metadata": {
      "needs_background": "light"
     },
     "output_type": "display_data"
    },
    {
     "data": {
      "image/png": "[encoded data removed]",
      "text/plain": [
       "<Figure size 432x288 with 1 Axes>"
      ]
     },
     "metadata": {
      "needs_background": "light"
     },
     "output_type": "display_data"
    },
    {
     "data": {
      "image/png": "[encoded data removed]",
      "text/plain": [
       "<Figure size 432x288 with 1 Axes>"
      ]
     },
     "metadata": {
      "needs_background": "light"
     },
     "output_type": "display_data"
    },
    {
     "data": {
      "image/png": "[encoded data removed]",
      "text/plain": [
       "<Figure size 432x288 with 1 Axes>"
      ]
     },
     "metadata": {
      "needs_background": "light"
     },
     "output_type": "display_data"
    },
    {
     "data": {
      "image/png": "[encoded data removed]",
      "text/plain": [
       "<Figure size 432x288 with 1 Axes>"
      ]
     },
     "metadata": {
      "needs_background": "light"
     },
     "output_type": "display_data"
    },
    {
     "data": {
      "image/png": "[encoded data removed]",
      "text/plain": [
       "<Figure size 432x288 with 1 Axes>"
      ]
     },
     "metadata": {
      "needs_background": "light"
     },
     "output_type": "display_data"
    },
    {
     "data": {
      "image/png": "[encoded data removed]",
      "text/plain": [
       "<Figure size 432x288 with 1 Axes>"
      ]
     },
     "metadata": {
      "needs_background": "light"
     },
     "output_type": "display_data"
    },
    {
     "data": {
      "image/png": "[encoded data removed]",
      "text/plain": [
       "<Figure size 432x288 with 1 Axes>"
      ]
     },
     "metadata": {
      "needs_background": "light"
     },
     "output_type": "display_data"
    },
    {
     "data": {
      "image/png": "[encoded data removed]",
      "text/plain": [
       "<Figure size 432x288 with 1 Axes>"
      ]
     },
     "metadata": {
      "needs_background": "light"
     },
     "output_type": "display_data"
    },
    {
     "data": {
      "image/png": "[encoded data removed]",
      "text/plain": [
       "<Figure size 432x288 with 1 Axes>"
      ]
     },
     "metadata": {
      "needs_background": "light"
     },
     "output_type": "display_data"
    },
    {
     "data": {
      "image/png": "[encoded data removed]",
      "text/plain": [
       "<Figure size 432x288 with 1 Axes>"
      ]
     },
     "metadata": {
      "needs_background": "light"
     },
     "output_type": "display_data"
    }
   ],
   "source": [
    "outliers_removal_list = ['ProdTaken', 'Age', 'CityTier', 'DurationOfPitch',\n",
    "       'NumberOfPersonVisiting', 'NumberOfFollowups', 'PreferredPropertyStar',\n",
    "       'NumberOfTrips', 'Passport', 'PitchSatisfactionScore', 'OwnCar',\n",
    "       'NumberOfChildrenVisiting', 'MonthlyIncome', 'Male', 'MarriageStatus',\n",
    "       'Free Lancer', 'Large Business', 'Salaried', 'Small Business', 'AVP',\n",
    "       'Executive', 'Manager', 'Senior Manager', 'VP', 'Self Enquiry', 'Basic',\n",
    "       'Deluxe', 'King', 'Standard', 'Super Deluxe']\n",
    "for i in outliers_removal_list:\n",
    "    sns.boxplot(df[i])\n",
    "    plt.show()"
   ]
  },
  {
   "cell_type": "code",
   "execution_count": null,
   "id": "ec54ee18-e431-4df8-bcbd-170b9806ae25",
   "metadata": {},
   "outputs": [],
   "source": []
  },
  {
   "cell_type": "code",
   "execution_count": 78,
   "id": "421a2903-c366-4f2d-b955-fe27f557a2cc",
   "metadata": {},
   "outputs": [
    {
     "data": {
      "image/png": "[encoded data removed]",
      "text/plain": [
       "<Figure size 432x288 with 1 Axes>"
      ]
     },
     "metadata": {
      "needs_background": "light"
     },
     "output_type": "display_data"
    }
   ],
   "source": [
    "incomeoutliersDF = df['MonthlyIncome']\n",
    "incomeoutliers = sns.boxplot(df['MonthlyIncome'])\n"
   ]
  },
  {
   "cell_type": "code",
   "execution_count": 79,
   "id": "880993ea-c31a-40ad-a7ed-c4bd25dbccf2",
   "metadata": {},
   "outputs": [
    {
     "name": "stdout",
     "output_type": "stream",
     "text": [
      "5255.0 20234.0 25489.0\n"
     ]
    }
   ],
   "source": [
    "q1 = incomeoutliersDF.quantile(0.25)\n",
    "q3 = incomeoutliersDF.quantile(0.75)\n",
    "iqr = q3-q1\n",
    "print(iqr,q1,q3)"
   ]
  },
  {
   "cell_type": "code",
   "execution_count": 80,
   "id": "30fbb175-d9b1-40f4-a57c-715d36917c2c",
   "metadata": {
    "tags": []
   },
   "outputs": [
    {
     "name": "stdout",
     "output_type": "stream",
     "text": [
      "12351.5 33371.5\n"
     ]
    }
   ],
   "source": [
    "min_q = q1 - 1.5*iqr\n",
    "max_q = q3 + 1.5*iqr\n",
    "print(min_q,max_q)"
   ]
  },
  {
   "cell_type": "code",
   "execution_count": 81,
   "id": "8c2d67da-0134-41e2-9ae7-ef115da76db3",
   "metadata": {},
   "outputs": [],
   "source": [
    "monthlyIncomeFiltd = df['MonthlyIncome'][(df['MonthlyIncome']>min_q) & (df['MonthlyIncome']<max_q)]"
   ]
  },
  {
   "cell_type": "code",
   "execution_count": 82,
   "id": "d6399506-8764-4c72-ac66-04c54477c2b4",
   "metadata": {},
   "outputs": [],
   "source": [
    "newdf = df[(df['MonthlyIncome']>min_q) & (df['MonthlyIncome']<max_q)]"
   ]
  },
  {
   "cell_type": "code",
   "execution_count": 94,
   "id": "3195b3d3-3eda-4c86-bb2b-037944c77d38",
   "metadata": {},
   "outputs": [],
   "source": [
    "### removing outliers from no of trips"
   ]
  },
  {
   "cell_type": "code",
   "execution_count": 99,
   "id": "a5baaf83-dc65-4c8f-825c-7f6927321cc7",
   "metadata": {},
   "outputs": [
    {
     "data": {
      "text/plain": [
       "0       1.0\n",
       "1       2.0\n",
       "2       7.0\n",
       "3       2.0\n",
       "4       1.0\n",
       "       ... \n",
       "4883    2.0\n",
       "4884    3.0\n",
       "4885    7.0\n",
       "4886    3.0\n",
       "4887    3.0\n",
       "Name: NumberOfTrips, Length: 4818, dtype: float64"
      ]
     },
     "execution_count": 99,
     "metadata": {},
     "output_type": "execute_result"
    }
   ],
   "source": [
    "df['NumberOfTrips']"
   ]
  },
  {
   "cell_type": "code",
   "execution_count": 82,
   "id": "419f6ccc-c53a-4f27-910b-d72af2651380",
   "metadata": {},
   "outputs": [],
   "source": [
    "q1 = incomeoutliersDF.quantile(0.25)\n",
    "q3 = incomeoutliersDF.quantile(0.75)\n",
    "iqr = q3-q1\n",
    "print(iqr,q1,q3)"
   ]
  },
  {
   "cell_type": "code",
   "execution_count": 82,
   "id": "a92b6b96-a817-498f-b714-2b4370a37349",
   "metadata": {},
   "outputs": [],
   "source": [
    "min_q = q1 - 1.5*iqr\n",
    "max_q = q3 + 1.5*iqr\n",
    "print(min_q,max_q)"
   ]
  },
  {
   "cell_type": "code",
   "execution_count": 83,
   "id": "e589fcf6-483c-4542-a177-716cf6c1f8f2",
   "metadata": {
    "scrolled": true,
    "tags": []
   },
   "outputs": [
    {
     "data": {
      "text/html": [
       "<div>\n",
       "<style scoped>\n",
       "    .dataframe tbody tr th:only-of-type {\n",
       "        vertical-align: middle;\n",
       "    }\n",
       "\n",
       "    .dataframe tbody tr th {\n",
       "        vertical-align: top;\n",
       "    }\n",
       "\n",
       "    .dataframe thead th {\n",
       "        text-align: right;\n",
       "    }\n",
       "</style>\n",
       "<table border=\"1\" class=\"dataframe\">\n",
       "  <thead>\n",
       "    <tr style=\"text-align: right;\">\n",
       "      <th></th>\n",
       "      <th>ProdTaken</th>\n",
       "      <th>Age</th>\n",
       "      <th>CityTier</th>\n",
       "      <th>DurationOfPitch</th>\n",
       "      <th>NumberOfPersonVisiting</th>\n",
       "      <th>NumberOfFollowups</th>\n",
       "      <th>PreferredPropertyStar</th>\n",
       "      <th>NumberOfTrips</th>\n",
       "      <th>Passport</th>\n",
       "      <th>PitchSatisfactionScore</th>\n",
       "      <th>...</th>\n",
       "      <th>Executive</th>\n",
       "      <th>Manager</th>\n",
       "      <th>Senior Manager</th>\n",
       "      <th>VP</th>\n",
       "      <th>Self Enquiry</th>\n",
       "      <th>Basic</th>\n",
       "      <th>Deluxe</th>\n",
       "      <th>King</th>\n",
       "      <th>Standard</th>\n",
       "      <th>Super Deluxe</th>\n",
       "    </tr>\n",
       "  </thead>\n",
       "  <tbody>\n",
       "    <tr>\n",
       "      <th>0</th>\n",
       "      <td>1</td>\n",
       "      <td>41.000000</td>\n",
       "      <td>3</td>\n",
       "      <td>6.0</td>\n",
       "      <td>3</td>\n",
       "      <td>3.0</td>\n",
       "      <td>3.0</td>\n",
       "      <td>1.0</td>\n",
       "      <td>1</td>\n",
       "      <td>2</td>\n",
       "      <td>...</td>\n",
       "      <td>0</td>\n",
       "      <td>1</td>\n",
       "      <td>0</td>\n",
       "      <td>0</td>\n",
       "      <td>1</td>\n",
       "      <td>0</td>\n",
       "      <td>1</td>\n",
       "      <td>0</td>\n",
       "      <td>0</td>\n",
       "      <td>0</td>\n",
       "    </tr>\n",
       "    <tr>\n",
       "      <th>1</th>\n",
       "      <td>0</td>\n",
       "      <td>49.000000</td>\n",
       "      <td>1</td>\n",
       "      <td>14.0</td>\n",
       "      <td>3</td>\n",
       "      <td>4.0</td>\n",
       "      <td>4.0</td>\n",
       "      <td>2.0</td>\n",
       "      <td>0</td>\n",
       "      <td>3</td>\n",
       "      <td>...</td>\n",
       "      <td>0</td>\n",
       "      <td>1</td>\n",
       "      <td>0</td>\n",
       "      <td>0</td>\n",
       "      <td>0</td>\n",
       "      <td>0</td>\n",
       "      <td>1</td>\n",
       "      <td>0</td>\n",
       "      <td>0</td>\n",
       "      <td>0</td>\n",
       "    </tr>\n",
       "    <tr>\n",
       "      <th>2</th>\n",
       "      <td>1</td>\n",
       "      <td>37.000000</td>\n",
       "      <td>1</td>\n",
       "      <td>8.0</td>\n",
       "      <td>3</td>\n",
       "      <td>4.0</td>\n",
       "      <td>3.0</td>\n",
       "      <td>7.0</td>\n",
       "      <td>1</td>\n",
       "      <td>3</td>\n",
       "      <td>...</td>\n",
       "      <td>1</td>\n",
       "      <td>0</td>\n",
       "      <td>0</td>\n",
       "      <td>0</td>\n",
       "      <td>1</td>\n",
       "      <td>1</td>\n",
       "      <td>0</td>\n",
       "      <td>0</td>\n",
       "      <td>0</td>\n",
       "      <td>0</td>\n",
       "    </tr>\n",
       "    <tr>\n",
       "      <th>3</th>\n",
       "      <td>0</td>\n",
       "      <td>33.000000</td>\n",
       "      <td>1</td>\n",
       "      <td>9.0</td>\n",
       "      <td>2</td>\n",
       "      <td>3.0</td>\n",
       "      <td>3.0</td>\n",
       "      <td>2.0</td>\n",
       "      <td>1</td>\n",
       "      <td>5</td>\n",
       "      <td>...</td>\n",
       "      <td>1</td>\n",
       "      <td>0</td>\n",
       "      <td>0</td>\n",
       "      <td>0</td>\n",
       "      <td>0</td>\n",
       "      <td>1</td>\n",
       "      <td>0</td>\n",
       "      <td>0</td>\n",
       "      <td>0</td>\n",
       "      <td>0</td>\n",
       "    </tr>\n",
       "    <tr>\n",
       "      <th>4</th>\n",
       "      <td>0</td>\n",
       "      <td>37.319986</td>\n",
       "      <td>1</td>\n",
       "      <td>8.0</td>\n",
       "      <td>2</td>\n",
       "      <td>3.0</td>\n",
       "      <td>4.0</td>\n",
       "      <td>1.0</td>\n",
       "      <td>0</td>\n",
       "      <td>5</td>\n",
       "      <td>...</td>\n",
       "      <td>1</td>\n",
       "      <td>0</td>\n",
       "      <td>0</td>\n",
       "      <td>0</td>\n",
       "      <td>1</td>\n",
       "      <td>1</td>\n",
       "      <td>0</td>\n",
       "      <td>0</td>\n",
       "      <td>0</td>\n",
       "      <td>0</td>\n",
       "    </tr>\n",
       "    <tr>\n",
       "      <th>...</th>\n",
       "      <td>...</td>\n",
       "      <td>...</td>\n",
       "      <td>...</td>\n",
       "      <td>...</td>\n",
       "      <td>...</td>\n",
       "      <td>...</td>\n",
       "      <td>...</td>\n",
       "      <td>...</td>\n",
       "      <td>...</td>\n",
       "      <td>...</td>\n",
       "      <td>...</td>\n",
       "      <td>...</td>\n",
       "      <td>...</td>\n",
       "      <td>...</td>\n",
       "      <td>...</td>\n",
       "      <td>...</td>\n",
       "      <td>...</td>\n",
       "      <td>...</td>\n",
       "      <td>...</td>\n",
       "      <td>...</td>\n",
       "      <td>...</td>\n",
       "    </tr>\n",
       "    <tr>\n",
       "      <th>4883</th>\n",
       "      <td>1</td>\n",
       "      <td>49.000000</td>\n",
       "      <td>3</td>\n",
       "      <td>9.0</td>\n",
       "      <td>3</td>\n",
       "      <td>5.0</td>\n",
       "      <td>4.0</td>\n",
       "      <td>2.0</td>\n",
       "      <td>1</td>\n",
       "      <td>1</td>\n",
       "      <td>...</td>\n",
       "      <td>0</td>\n",
       "      <td>1</td>\n",
       "      <td>0</td>\n",
       "      <td>0</td>\n",
       "      <td>1</td>\n",
       "      <td>0</td>\n",
       "      <td>1</td>\n",
       "      <td>0</td>\n",
       "      <td>0</td>\n",
       "      <td>0</td>\n",
       "    </tr>\n",
       "    <tr>\n",
       "      <th>4884</th>\n",
       "      <td>1</td>\n",
       "      <td>28.000000</td>\n",
       "      <td>1</td>\n",
       "      <td>31.0</td>\n",
       "      <td>4</td>\n",
       "      <td>5.0</td>\n",
       "      <td>3.0</td>\n",
       "      <td>3.0</td>\n",
       "      <td>1</td>\n",
       "      <td>3</td>\n",
       "      <td>...</td>\n",
       "      <td>1</td>\n",
       "      <td>0</td>\n",
       "      <td>0</td>\n",
       "      <td>0</td>\n",
       "      <td>0</td>\n",
       "      <td>1</td>\n",
       "      <td>0</td>\n",
       "      <td>0</td>\n",
       "      <td>0</td>\n",
       "      <td>0</td>\n",
       "    </tr>\n",
       "    <tr>\n",
       "      <th>4885</th>\n",
       "      <td>1</td>\n",
       "      <td>52.000000</td>\n",
       "      <td>3</td>\n",
       "      <td>17.0</td>\n",
       "      <td>4</td>\n",
       "      <td>4.0</td>\n",
       "      <td>4.0</td>\n",
       "      <td>7.0</td>\n",
       "      <td>0</td>\n",
       "      <td>1</td>\n",
       "      <td>...</td>\n",
       "      <td>0</td>\n",
       "      <td>0</td>\n",
       "      <td>1</td>\n",
       "      <td>0</td>\n",
       "      <td>1</td>\n",
       "      <td>0</td>\n",
       "      <td>0</td>\n",
       "      <td>0</td>\n",
       "      <td>1</td>\n",
       "      <td>0</td>\n",
       "    </tr>\n",
       "    <tr>\n",
       "      <th>4886</th>\n",
       "      <td>1</td>\n",
       "      <td>19.000000</td>\n",
       "      <td>3</td>\n",
       "      <td>16.0</td>\n",
       "      <td>3</td>\n",
       "      <td>4.0</td>\n",
       "      <td>3.0</td>\n",
       "      <td>3.0</td>\n",
       "      <td>0</td>\n",
       "      <td>5</td>\n",
       "      <td>...</td>\n",
       "      <td>1</td>\n",
       "      <td>0</td>\n",
       "      <td>0</td>\n",
       "      <td>0</td>\n",
       "      <td>1</td>\n",
       "      <td>1</td>\n",
       "      <td>0</td>\n",
       "      <td>0</td>\n",
       "      <td>0</td>\n",
       "      <td>0</td>\n",
       "    </tr>\n",
       "    <tr>\n",
       "      <th>4887</th>\n",
       "      <td>1</td>\n",
       "      <td>36.000000</td>\n",
       "      <td>1</td>\n",
       "      <td>14.0</td>\n",
       "      <td>4</td>\n",
       "      <td>4.0</td>\n",
       "      <td>4.0</td>\n",
       "      <td>3.0</td>\n",
       "      <td>1</td>\n",
       "      <td>3</td>\n",
       "      <td>...</td>\n",
       "      <td>1</td>\n",
       "      <td>0</td>\n",
       "      <td>0</td>\n",
       "      <td>0</td>\n",
       "      <td>1</td>\n",
       "      <td>1</td>\n",
       "      <td>0</td>\n",
       "      <td>0</td>\n",
       "      <td>0</td>\n",
       "      <td>0</td>\n",
       "    </tr>\n",
       "  </tbody>\n",
       "</table>\n",
       "<p>4473 rows × 30 columns</p>\n",
       "</div>"
      ],
      "text/plain": [
       "      ProdTaken        Age  CityTier  DurationOfPitch  NumberOfPersonVisiting  \\\n",
       "0             1  41.000000         3              6.0                       3   \n",
       "1             0  49.000000         1             14.0                       3   \n",
       "2             1  37.000000         1              8.0                       3   \n",
       "3             0  33.000000         1              9.0                       2   \n",
       "4             0  37.319986         1              8.0                       2   \n",
       "...         ...        ...       ...              ...                     ...   \n",
       "4883          1  49.000000         3              9.0                       3   \n",
       "4884          1  28.000000         1             31.0                       4   \n",
       "4885          1  52.000000         3             17.0                       4   \n",
       "4886          1  19.000000         3             16.0                       3   \n",
       "4887          1  36.000000         1             14.0                       4   \n",
       "\n",
       "      NumberOfFollowups  PreferredPropertyStar  NumberOfTrips  Passport  \\\n",
       "0                   3.0                    3.0            1.0         1   \n",
       "1                   4.0                    4.0            2.0         0   \n",
       "2                   4.0                    3.0            7.0         1   \n",
       "3                   3.0                    3.0            2.0         1   \n",
       "4                   3.0                    4.0            1.0         0   \n",
       "...                 ...                    ...            ...       ...   \n",
       "4883                5.0                    4.0            2.0         1   \n",
       "4884                5.0                    3.0            3.0         1   \n",
       "4885                4.0                    4.0            7.0         0   \n",
       "4886                4.0                    3.0            3.0         0   \n",
       "4887                4.0                    4.0            3.0         1   \n",
       "\n",
       "      PitchSatisfactionScore  ...  Executive  Manager  Senior Manager  VP  \\\n",
       "0                          2  ...          0        1               0   0   \n",
       "1                          3  ...          0        1               0   0   \n",
       "2                          3  ...          1        0               0   0   \n",
       "3                          5  ...          1        0               0   0   \n",
       "4                          5  ...          1        0               0   0   \n",
       "...                      ...  ...        ...      ...             ...  ..   \n",
       "4883                       1  ...          0        1               0   0   \n",
       "4884                       3  ...          1        0               0   0   \n",
       "4885                       1  ...          0        0               1   0   \n",
       "4886                       5  ...          1        0               0   0   \n",
       "4887                       3  ...          1        0               0   0   \n",
       "\n",
       "      Self Enquiry  Basic  Deluxe  King  Standard  Super Deluxe  \n",
       "0                1      0       1     0         0             0  \n",
       "1                0      0       1     0         0             0  \n",
       "2                1      1       0     0         0             0  \n",
       "3                0      1       0     0         0             0  \n",
       "4                1      1       0     0         0             0  \n",
       "...            ...    ...     ...   ...       ...           ...  \n",
       "4883             1      0       1     0         0             0  \n",
       "4884             0      1       0     0         0             0  \n",
       "4885             1      0       0     0         1             0  \n",
       "4886             1      1       0     0         0             0  \n",
       "4887             1      1       0     0         0             0  \n",
       "\n",
       "[4473 rows x 30 columns]"
      ]
     },
     "execution_count": 83,
     "metadata": {},
     "output_type": "execute_result"
    }
   ],
   "source": [
    "#this is the new dataframe that has outliers for monthly income removed\n",
    "newdf"
   ]
  },
  {
   "cell_type": "code",
   "execution_count": null,
   "id": "076a4aa1-0486-43fd-854a-ae544b1edd53",
   "metadata": {},
   "outputs": [],
   "source": []
  },
  {
   "cell_type": "code",
   "execution_count": 84,
   "id": "1de647ea-f9fd-4cbc-b0e4-60466bee3c04",
   "metadata": {},
   "outputs": [],
   "source": [
    "from sklearn.model_selection import train_test_split\n",
    "from sklearn.tree import DecisionTreeClassifier\n",
    "from sklearn.ensemble import RandomForestClassifier"
   ]
  },
  {
   "cell_type": "code",
   "execution_count": 85,
   "id": "93c227b0-0e45-4129-bbf5-c30b19219075",
   "metadata": {},
   "outputs": [],
   "source": [
    "x = newdf[['Age', 'CityTier', 'DurationOfPitch',\n",
    "       'NumberOfPersonVisiting', 'NumberOfFollowups', 'PreferredPropertyStar',\n",
    "       'NumberOfTrips', 'Passport', 'PitchSatisfactionScore', 'OwnCar',\n",
    "       'NumberOfChildrenVisiting', 'MonthlyIncome', 'Male', 'MarriageStatus',\n",
    "       'Free Lancer', 'Large Business', 'Salaried', 'Small Business', 'AVP',\n",
    "       'Executive', 'Manager', 'Senior Manager', 'VP', 'Self Enquiry', 'Basic',\n",
    "       'Deluxe', 'King', 'Standard', 'Super Deluxe']]\n",
    "y = newdf['ProdTaken']"
   ]
  },
  {
   "cell_type": "code",
   "execution_count": 86,
   "id": "4d21881b-a70d-424a-952f-766565659146",
   "metadata": {},
   "outputs": [],
   "source": [
    "xtrain, xtest, ytrain, ytest = train_test_split(x,y,test_size=0.25, random_state=101)"
   ]
  },
  {
   "cell_type": "code",
   "execution_count": 87,
   "id": "779623fb-c480-48cf-b90b-f7d855b399ed",
   "metadata": {},
   "outputs": [
    {
     "data": {
      "text/plain": [
       "0.9097408400357462"
      ]
     },
     "execution_count": 87,
     "metadata": {},
     "output_type": "execute_result"
    }
   ],
   "source": [
    "modeldt1 = DecisionTreeClassifier().fit(xtrain, ytrain)\n",
    "modeldt1.score(xtest, ytest)"
   ]
  },
  {
   "cell_type": "raw",
   "id": "624bc12e-cbcb-4a46-acc5-8762fa930ecf",
   "metadata": {},
   "source": [
    "dt1feature_imp = pd.DataFrame(modeldt1.feature_importances_)\n",
    "featurelist = pd.DataFrame(x.columns)\n",
    "pd.concat((featurelist, dt1feature_imp), axis=1)\n",
    "# pd.concat((dt1feature_imp, pd.DataFrame(x)))"
   ]
  },
  {
   "cell_type": "code",
   "execution_count": 88,
   "id": "c471b1cf-0ac2-4feb-b0e0-18a90d0b9d3b",
   "metadata": {},
   "outputs": [
    {
     "data": {
      "text/plain": [
       "0.9240393208221627"
      ]
     },
     "execution_count": 88,
     "metadata": {},
     "output_type": "execute_result"
    }
   ],
   "source": [
    "modelrf1 = RandomForestClassifier().fit(xtrain, ytrain)\n",
    "modelrf1.score(xtest, ytest)"
   ]
  },
  {
   "cell_type": "markdown",
   "id": "f23e7dc3-a6bd-4faf-9ff7-de81c32bb6d0",
   "metadata": {},
   "source": [
    "#### <b>Testing the best number of estimators"
   ]
  },
  {
   "cell_type": "code",
   "execution_count": 91,
   "id": "2a7fb0ba-4327-4a2d-86b8-ac48b730c412",
   "metadata": {},
   "outputs": [],
   "source": [
    "score_rf_dict = {}\n",
    "for i in range(10,100):\n",
    "    modelrf1 = RandomForestClassifier(n_estimators=i).fit(xtrain, ytrain)\n",
    "    score_rf_dict[i] = modelrf1.score(xtest, ytest)\n",
    "    "
   ]
  },
  {
   "cell_type": "code",
   "execution_count": 93,
   "id": "911e8f2c-c94b-4f93-b645-485fc2bc65ae",
   "metadata": {},
   "outputs": [
    {
     "data": {
      "text/plain": [
       "0.9320822162645219"
      ]
     },
     "execution_count": 93,
     "metadata": {},
     "output_type": "execute_result"
    }
   ],
   "source": [
    "modelrf1 = RandomForestClassifier(n_estimators=71).fit(xtrain, ytrain)\n",
    "modelrf1.score(xtest, ytest)"
   ]
  },
  {
   "cell_type": "code",
   "execution_count": null,
   "id": "d27ccdbf-f666-4376-8a59-46a0f8758bda",
   "metadata": {},
   "outputs": [],
   "source": []
  }
 ],
 "metadata": {
  "kernelspec": {
   "display_name": "Python 3",
   "language": "python",
   "name": "python3"
  },
  "language_info": {
   "codemirror_mode": {
    "name": "ipython",
    "version": 3
   },
   "file_extension": ".py",
   "mimetype": "text/x-python",
   "name": "python",
   "nbconvert_exporter": "python",
   "pygments_lexer": "ipython3",
   "version": "3.8.8"
  }
 },
 "nbformat": 4,
 "nbformat_minor": 5
}
