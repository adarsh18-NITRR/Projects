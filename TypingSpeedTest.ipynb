{
 "cells": [
  {
   "cell_type": "code",
   "execution_count": 29,
   "id": "d06cf562-2de1-49f1-a77e-eb67ab88acbe",
   "metadata": {},
   "outputs": [],
   "source": [
    "from selenium import webdriver\n",
    "from selenium.webdriver.common.keys import Keys\n",
    "import time\n",
    "from pynput.keyboard import Key, Controller\n",
    "import keyboard as kb"
   ]
  },
  {
   "cell_type": "code",
   "execution_count": 32,
   "id": "b385084e-895e-447f-aed3-178524fa9931",
   "metadata": {},
   "outputs": [
    {
     "name": "stdout",
     "output_type": "stream",
     "text": [
      "ok\n"
     ]
    }
   ],
   "source": [
    "path = 'C:\\Program Files (x86)\\chromedriver.exe'\n",
    "driver = webdriver.Chrome(path)\n",
    "driver.get('https://www.livechat.com/typing-speed-test/#/')\n",
    "for i in range(1,300):\n",
    "    writing = driver.find_element_by_class_name('js-focus-visible')\n",
    "    container1 = writing.find_element_by_class_name('o-container')\n",
    "    container2 = container1.find_element_by_xpath('//*[@id=\"app\"]/div/div[2]/div[1]/div/span/div[2]')\n",
    "#     print('ok')\n",
    "    container3 = container2.find_element_by_xpath('//*[@id=\"app\"]/div/div[2]/div[1]/div/span/div[2]/span/div')\n",
    "    container4 = container3.find_element_by_xpath('//*[@id=\"app\"]/div/div[2]/div[1]/div/span/div[2]/span/div/div[2]/div[2]')\n",
    "    word = container4.find_element_by_xpath('//*[@id=\"app\"]/div/div[2]/div[1]/div/span/div[2]/span/div/div[2]/div[2]/span[1]').text\n",
    "#     print(word)\n",
    "    kb.write(word)\n",
    "    kb.press_and_release('space', do_release=True)\n",
    "print('ok')"
   ]
  },
  {
   "cell_type": "code",
   "execution_count": null,
   "id": "d97a4565-910a-40d5-a9ab-27cac6ee282b",
   "metadata": {},
   "outputs": [],
   "source": []
  },
  {
   "cell_type": "code",
   "execution_count": null,
   "id": "52ca8e22-1415-4b01-a67e-99048916fb6c",
   "metadata": {},
   "outputs": [],
   "source": []
  }
 ],
 "metadata": {
  "kernelspec": {
   "display_name": "Python 3",
   "language": "python",
   "name": "python3"
  },
  "language_info": {
   "codemirror_mode": {
    "name": "ipython",
    "version": 3
   },
   "file_extension": ".py",
   "mimetype": "text/x-python",
   "name": "python",
   "nbconvert_exporter": "python",
   "pygments_lexer": "ipython3",
   "version": "3.8.8"
  }
 },
 "nbformat": 4,
 "nbformat_minor": 5
}
